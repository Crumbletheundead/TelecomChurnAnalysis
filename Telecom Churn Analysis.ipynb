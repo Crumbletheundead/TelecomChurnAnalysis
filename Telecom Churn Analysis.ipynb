{
 "cells": [
  {
   "cell_type": "markdown",
   "metadata": {},
   "source": [
    "# Goal of EDA\n",
    "\n",
    "The goal of this EDA notebook is to first get a general look at our data to see if we can find any interesting quirks that may affect our model later on down the line. For example, we need to get an idea of what values may be missing or class imbalance so our model may be adjusted accordingly. Furthermore, we may be able to engineer better features for our model to use."
   ]
  },
  {
   "cell_type": "code",
   "execution_count": 421,
   "metadata": {},
   "outputs": [
    {
     "data": {
      "text/plain": [
       "<module 'JeffUtils' from 'C:\\\\Users\\\\j3ff1\\\\Documents\\\\School Work\\\\MLProjects\\\\TelecomChurnAnalysis\\\\JeffUtils.py'>"
      ]
     },
     "execution_count": 421,
     "metadata": {},
     "output_type": "execute_result"
    }
   ],
   "source": [
    "import importlib\n",
    "import JeffUtils\n",
    "importlib.reload(JeffUtils)"
   ]
  },
  {
   "cell_type": "code",
   "execution_count": 330,
   "metadata": {},
   "outputs": [],
   "source": [
    "import pandas as pd\n",
    "import numpy as np\n",
    "import seaborn as sns\n",
    "import matplotlib.pyplot as plt\n",
    "import math\n",
    "import scipy\n",
    "import re\n",
    "from typing import Union, List"
   ]
  },
  {
   "cell_type": "code",
   "execution_count": 3,
   "metadata": {},
   "outputs": [],
   "source": [
    "pd.set_option('display.max_columns', None)"
   ]
  },
  {
   "cell_type": "markdown",
   "metadata": {},
   "source": [
    "we set a predetermined random seed so our experiment results can be easily replicated "
   ]
  },
  {
   "cell_type": "code",
   "execution_count": 177,
   "metadata": {},
   "outputs": [],
   "source": [
    "RANDOM_SEED = 1337"
   ]
  },
  {
   "cell_type": "markdown",
   "metadata": {},
   "source": [
    "# Loading Raw Data"
   ]
  },
  {
   "cell_type": "markdown",
   "metadata": {},
   "source": [
    "Load in data from: https://www.kaggle.com/datasets/abhinav89/telecom-customer?resource=download"
   ]
  },
  {
   "cell_type": "code",
   "execution_count": 79,
   "metadata": {},
   "outputs": [],
   "source": [
    "raw_data = pd.read_csv('telecomChurn.zip')"
   ]
  },
  {
   "cell_type": "markdown",
   "metadata": {},
   "source": [
    "the data has 100 features to work with, and 100,000 data points"
   ]
  },
  {
   "cell_type": "code",
   "execution_count": 81,
   "metadata": {},
   "outputs": [
    {
     "data": {
      "text/plain": [
       "(100000, 100)"
      ]
     },
     "execution_count": 81,
     "metadata": {},
     "output_type": "execute_result"
    }
   ],
   "source": [
    "raw_data.shape"
   ]
  },
  {
   "cell_type": "code",
   "execution_count": 80,
   "metadata": {},
   "outputs": [
    {
     "data": {
      "text/html": [
       "<div>\n",
       "<style scoped>\n",
       "    .dataframe tbody tr th:only-of-type {\n",
       "        vertical-align: middle;\n",
       "    }\n",
       "\n",
       "    .dataframe tbody tr th {\n",
       "        vertical-align: top;\n",
       "    }\n",
       "\n",
       "    .dataframe thead th {\n",
       "        text-align: right;\n",
       "    }\n",
       "</style>\n",
       "<table border=\"1\" class=\"dataframe\">\n",
       "  <thead>\n",
       "    <tr style=\"text-align: right;\">\n",
       "      <th></th>\n",
       "      <th>rev_Mean</th>\n",
       "      <th>mou_Mean</th>\n",
       "      <th>totmrc_Mean</th>\n",
       "      <th>da_Mean</th>\n",
       "      <th>ovrmou_Mean</th>\n",
       "      <th>ovrrev_Mean</th>\n",
       "      <th>vceovr_Mean</th>\n",
       "      <th>datovr_Mean</th>\n",
       "      <th>roam_Mean</th>\n",
       "      <th>change_mou</th>\n",
       "      <th>change_rev</th>\n",
       "      <th>drop_vce_Mean</th>\n",
       "      <th>drop_dat_Mean</th>\n",
       "      <th>blck_vce_Mean</th>\n",
       "      <th>blck_dat_Mean</th>\n",
       "      <th>unan_vce_Mean</th>\n",
       "      <th>unan_dat_Mean</th>\n",
       "      <th>plcd_vce_Mean</th>\n",
       "      <th>plcd_dat_Mean</th>\n",
       "      <th>recv_vce_Mean</th>\n",
       "      <th>recv_sms_Mean</th>\n",
       "      <th>comp_vce_Mean</th>\n",
       "      <th>comp_dat_Mean</th>\n",
       "      <th>custcare_Mean</th>\n",
       "      <th>ccrndmou_Mean</th>\n",
       "      <th>cc_mou_Mean</th>\n",
       "      <th>inonemin_Mean</th>\n",
       "      <th>threeway_Mean</th>\n",
       "      <th>mou_cvce_Mean</th>\n",
       "      <th>mou_cdat_Mean</th>\n",
       "      <th>mou_rvce_Mean</th>\n",
       "      <th>owylis_vce_Mean</th>\n",
       "      <th>mouowylisv_Mean</th>\n",
       "      <th>iwylis_vce_Mean</th>\n",
       "      <th>mouiwylisv_Mean</th>\n",
       "      <th>peak_vce_Mean</th>\n",
       "      <th>peak_dat_Mean</th>\n",
       "      <th>mou_peav_Mean</th>\n",
       "      <th>mou_pead_Mean</th>\n",
       "      <th>opk_vce_Mean</th>\n",
       "      <th>opk_dat_Mean</th>\n",
       "      <th>mou_opkv_Mean</th>\n",
       "      <th>mou_opkd_Mean</th>\n",
       "      <th>drop_blk_Mean</th>\n",
       "      <th>attempt_Mean</th>\n",
       "      <th>complete_Mean</th>\n",
       "      <th>callfwdv_Mean</th>\n",
       "      <th>callwait_Mean</th>\n",
       "      <th>churn</th>\n",
       "      <th>months</th>\n",
       "      <th>uniqsubs</th>\n",
       "      <th>actvsubs</th>\n",
       "      <th>new_cell</th>\n",
       "      <th>crclscod</th>\n",
       "      <th>asl_flag</th>\n",
       "      <th>totcalls</th>\n",
       "      <th>totmou</th>\n",
       "      <th>totrev</th>\n",
       "      <th>adjrev</th>\n",
       "      <th>adjmou</th>\n",
       "      <th>adjqty</th>\n",
       "      <th>avgrev</th>\n",
       "      <th>avgmou</th>\n",
       "      <th>avgqty</th>\n",
       "      <th>avg3mou</th>\n",
       "      <th>avg3qty</th>\n",
       "      <th>avg3rev</th>\n",
       "      <th>avg6mou</th>\n",
       "      <th>avg6qty</th>\n",
       "      <th>avg6rev</th>\n",
       "      <th>prizm_social_one</th>\n",
       "      <th>area</th>\n",
       "      <th>dualband</th>\n",
       "      <th>refurb_new</th>\n",
       "      <th>hnd_price</th>\n",
       "      <th>phones</th>\n",
       "      <th>models</th>\n",
       "      <th>hnd_webcap</th>\n",
       "      <th>truck</th>\n",
       "      <th>rv</th>\n",
       "      <th>ownrent</th>\n",
       "      <th>lor</th>\n",
       "      <th>dwlltype</th>\n",
       "      <th>marital</th>\n",
       "      <th>adults</th>\n",
       "      <th>infobase</th>\n",
       "      <th>income</th>\n",
       "      <th>numbcars</th>\n",
       "      <th>HHstatin</th>\n",
       "      <th>dwllsize</th>\n",
       "      <th>forgntvl</th>\n",
       "      <th>ethnic</th>\n",
       "      <th>kid0_2</th>\n",
       "      <th>kid3_5</th>\n",
       "      <th>kid6_10</th>\n",
       "      <th>kid11_15</th>\n",
       "      <th>kid16_17</th>\n",
       "      <th>creditcd</th>\n",
       "      <th>eqpdays</th>\n",
       "      <th>Customer_ID</th>\n",
       "    </tr>\n",
       "  </thead>\n",
       "  <tbody>\n",
       "    <tr>\n",
       "      <th>0</th>\n",
       "      <td>23.9975</td>\n",
       "      <td>219.25</td>\n",
       "      <td>22.500</td>\n",
       "      <td>0.2475</td>\n",
       "      <td>0.00</td>\n",
       "      <td>0.0</td>\n",
       "      <td>0.0</td>\n",
       "      <td>0.0</td>\n",
       "      <td>0.0</td>\n",
       "      <td>-157.25</td>\n",
       "      <td>-18.9975</td>\n",
       "      <td>0.666667</td>\n",
       "      <td>0.0</td>\n",
       "      <td>0.666667</td>\n",
       "      <td>0.0</td>\n",
       "      <td>6.333333</td>\n",
       "      <td>0.0</td>\n",
       "      <td>52.333333</td>\n",
       "      <td>0.0</td>\n",
       "      <td>42.333333</td>\n",
       "      <td>0.0</td>\n",
       "      <td>45.000000</td>\n",
       "      <td>0.0</td>\n",
       "      <td>0.000000</td>\n",
       "      <td>0.000000</td>\n",
       "      <td>0.000000</td>\n",
       "      <td>18.000000</td>\n",
       "      <td>0.000000</td>\n",
       "      <td>90.643333</td>\n",
       "      <td>0.0</td>\n",
       "      <td>97.176667</td>\n",
       "      <td>0.000000</td>\n",
       "      <td>0.000000</td>\n",
       "      <td>0.000000</td>\n",
       "      <td>0.000000</td>\n",
       "      <td>58.000000</td>\n",
       "      <td>0.0</td>\n",
       "      <td>132.600000</td>\n",
       "      <td>0.0</td>\n",
       "      <td>24.000000</td>\n",
       "      <td>0.0</td>\n",
       "      <td>55.220000</td>\n",
       "      <td>0.0</td>\n",
       "      <td>1.333333</td>\n",
       "      <td>52.333333</td>\n",
       "      <td>45.000000</td>\n",
       "      <td>0.0</td>\n",
       "      <td>0.333333</td>\n",
       "      <td>1</td>\n",
       "      <td>61</td>\n",
       "      <td>2</td>\n",
       "      <td>1</td>\n",
       "      <td>U</td>\n",
       "      <td>A</td>\n",
       "      <td>N</td>\n",
       "      <td>1652</td>\n",
       "      <td>4228.00000</td>\n",
       "      <td>1504.62</td>\n",
       "      <td>1453.44</td>\n",
       "      <td>4085.00</td>\n",
       "      <td>1602</td>\n",
       "      <td>29.66</td>\n",
       "      <td>83.37</td>\n",
       "      <td>32.69</td>\n",
       "      <td>272</td>\n",
       "      <td>116</td>\n",
       "      <td>30</td>\n",
       "      <td>322.0</td>\n",
       "      <td>136.0</td>\n",
       "      <td>38.0</td>\n",
       "      <td>S</td>\n",
       "      <td>NORTHWEST/ROCKY MOUNTAIN AREA</td>\n",
       "      <td>Y</td>\n",
       "      <td>N</td>\n",
       "      <td>149.98999</td>\n",
       "      <td>2.0</td>\n",
       "      <td>2.0</td>\n",
       "      <td>WCMB</td>\n",
       "      <td>0.0</td>\n",
       "      <td>0.0</td>\n",
       "      <td>O</td>\n",
       "      <td>15.0</td>\n",
       "      <td>S</td>\n",
       "      <td>S</td>\n",
       "      <td>1.0</td>\n",
       "      <td>M</td>\n",
       "      <td>4.0</td>\n",
       "      <td>3.0</td>\n",
       "      <td>C</td>\n",
       "      <td>A</td>\n",
       "      <td>0.0</td>\n",
       "      <td>N</td>\n",
       "      <td>U</td>\n",
       "      <td>U</td>\n",
       "      <td>U</td>\n",
       "      <td>U</td>\n",
       "      <td>U</td>\n",
       "      <td>Y</td>\n",
       "      <td>361.0</td>\n",
       "      <td>1000001</td>\n",
       "    </tr>\n",
       "    <tr>\n",
       "      <th>1</th>\n",
       "      <td>57.4925</td>\n",
       "      <td>482.75</td>\n",
       "      <td>37.425</td>\n",
       "      <td>0.2475</td>\n",
       "      <td>22.75</td>\n",
       "      <td>9.1</td>\n",
       "      <td>9.1</td>\n",
       "      <td>0.0</td>\n",
       "      <td>0.0</td>\n",
       "      <td>532.25</td>\n",
       "      <td>50.9875</td>\n",
       "      <td>8.333333</td>\n",
       "      <td>0.0</td>\n",
       "      <td>1.000000</td>\n",
       "      <td>0.0</td>\n",
       "      <td>61.333333</td>\n",
       "      <td>0.0</td>\n",
       "      <td>263.333333</td>\n",
       "      <td>0.0</td>\n",
       "      <td>69.000000</td>\n",
       "      <td>0.0</td>\n",
       "      <td>193.333333</td>\n",
       "      <td>0.0</td>\n",
       "      <td>1.666667</td>\n",
       "      <td>6.333333</td>\n",
       "      <td>5.463333</td>\n",
       "      <td>53.000000</td>\n",
       "      <td>0.333333</td>\n",
       "      <td>189.396667</td>\n",
       "      <td>0.0</td>\n",
       "      <td>55.280000</td>\n",
       "      <td>46.333333</td>\n",
       "      <td>24.216667</td>\n",
       "      <td>6.333333</td>\n",
       "      <td>3.696667</td>\n",
       "      <td>83.666667</td>\n",
       "      <td>0.0</td>\n",
       "      <td>75.333333</td>\n",
       "      <td>0.0</td>\n",
       "      <td>157.000000</td>\n",
       "      <td>0.0</td>\n",
       "      <td>169.343333</td>\n",
       "      <td>0.0</td>\n",
       "      <td>9.333333</td>\n",
       "      <td>263.333333</td>\n",
       "      <td>193.333333</td>\n",
       "      <td>0.0</td>\n",
       "      <td>5.666667</td>\n",
       "      <td>0</td>\n",
       "      <td>56</td>\n",
       "      <td>1</td>\n",
       "      <td>1</td>\n",
       "      <td>N</td>\n",
       "      <td>EA</td>\n",
       "      <td>N</td>\n",
       "      <td>14654</td>\n",
       "      <td>26400.00000</td>\n",
       "      <td>2851.68</td>\n",
       "      <td>2833.88</td>\n",
       "      <td>26367.00</td>\n",
       "      <td>14624</td>\n",
       "      <td>51.53</td>\n",
       "      <td>479.40</td>\n",
       "      <td>265.89</td>\n",
       "      <td>305</td>\n",
       "      <td>158</td>\n",
       "      <td>40</td>\n",
       "      <td>477.0</td>\n",
       "      <td>275.0</td>\n",
       "      <td>48.0</td>\n",
       "      <td>U</td>\n",
       "      <td>CHICAGO AREA</td>\n",
       "      <td>N</td>\n",
       "      <td>N</td>\n",
       "      <td>NaN</td>\n",
       "      <td>7.0</td>\n",
       "      <td>6.0</td>\n",
       "      <td>WC</td>\n",
       "      <td>1.0</td>\n",
       "      <td>1.0</td>\n",
       "      <td>NaN</td>\n",
       "      <td>1.0</td>\n",
       "      <td>S</td>\n",
       "      <td>S</td>\n",
       "      <td>1.0</td>\n",
       "      <td>M</td>\n",
       "      <td>5.0</td>\n",
       "      <td>1.0</td>\n",
       "      <td>C</td>\n",
       "      <td>A</td>\n",
       "      <td>0.0</td>\n",
       "      <td>Z</td>\n",
       "      <td>U</td>\n",
       "      <td>U</td>\n",
       "      <td>U</td>\n",
       "      <td>U</td>\n",
       "      <td>U</td>\n",
       "      <td>Y</td>\n",
       "      <td>240.0</td>\n",
       "      <td>1000002</td>\n",
       "    </tr>\n",
       "    <tr>\n",
       "      <th>2</th>\n",
       "      <td>16.9900</td>\n",
       "      <td>10.25</td>\n",
       "      <td>16.990</td>\n",
       "      <td>0.0000</td>\n",
       "      <td>0.00</td>\n",
       "      <td>0.0</td>\n",
       "      <td>0.0</td>\n",
       "      <td>0.0</td>\n",
       "      <td>0.0</td>\n",
       "      <td>-4.25</td>\n",
       "      <td>0.0000</td>\n",
       "      <td>0.333333</td>\n",
       "      <td>0.0</td>\n",
       "      <td>0.000000</td>\n",
       "      <td>0.0</td>\n",
       "      <td>2.666667</td>\n",
       "      <td>0.0</td>\n",
       "      <td>9.000000</td>\n",
       "      <td>0.0</td>\n",
       "      <td>0.333333</td>\n",
       "      <td>0.0</td>\n",
       "      <td>6.000000</td>\n",
       "      <td>0.0</td>\n",
       "      <td>0.000000</td>\n",
       "      <td>0.000000</td>\n",
       "      <td>0.000000</td>\n",
       "      <td>0.333333</td>\n",
       "      <td>0.000000</td>\n",
       "      <td>5.426667</td>\n",
       "      <td>0.0</td>\n",
       "      <td>0.000000</td>\n",
       "      <td>0.000000</td>\n",
       "      <td>0.000000</td>\n",
       "      <td>0.000000</td>\n",
       "      <td>0.000000</td>\n",
       "      <td>5.000000</td>\n",
       "      <td>0.0</td>\n",
       "      <td>5.193333</td>\n",
       "      <td>0.0</td>\n",
       "      <td>1.000000</td>\n",
       "      <td>0.0</td>\n",
       "      <td>0.233333</td>\n",
       "      <td>0.0</td>\n",
       "      <td>0.333333</td>\n",
       "      <td>9.000000</td>\n",
       "      <td>6.000000</td>\n",
       "      <td>0.0</td>\n",
       "      <td>0.000000</td>\n",
       "      <td>1</td>\n",
       "      <td>58</td>\n",
       "      <td>1</td>\n",
       "      <td>1</td>\n",
       "      <td>Y</td>\n",
       "      <td>C</td>\n",
       "      <td>N</td>\n",
       "      <td>7903</td>\n",
       "      <td>24385.05333</td>\n",
       "      <td>2155.91</td>\n",
       "      <td>1934.47</td>\n",
       "      <td>24303.05</td>\n",
       "      <td>7888</td>\n",
       "      <td>34.54</td>\n",
       "      <td>433.98</td>\n",
       "      <td>140.86</td>\n",
       "      <td>12</td>\n",
       "      <td>7</td>\n",
       "      <td>17</td>\n",
       "      <td>11.0</td>\n",
       "      <td>6.0</td>\n",
       "      <td>17.0</td>\n",
       "      <td>S</td>\n",
       "      <td>GREAT LAKES AREA</td>\n",
       "      <td>N</td>\n",
       "      <td>N</td>\n",
       "      <td>29.98999</td>\n",
       "      <td>2.0</td>\n",
       "      <td>1.0</td>\n",
       "      <td>NaN</td>\n",
       "      <td>0.0</td>\n",
       "      <td>0.0</td>\n",
       "      <td>O</td>\n",
       "      <td>7.0</td>\n",
       "      <td>S</td>\n",
       "      <td>M</td>\n",
       "      <td>2.0</td>\n",
       "      <td>M</td>\n",
       "      <td>5.0</td>\n",
       "      <td>2.0</td>\n",
       "      <td>C</td>\n",
       "      <td>A</td>\n",
       "      <td>0.0</td>\n",
       "      <td>N</td>\n",
       "      <td>U</td>\n",
       "      <td>Y</td>\n",
       "      <td>U</td>\n",
       "      <td>U</td>\n",
       "      <td>U</td>\n",
       "      <td>Y</td>\n",
       "      <td>1504.0</td>\n",
       "      <td>1000003</td>\n",
       "    </tr>\n",
       "    <tr>\n",
       "      <th>3</th>\n",
       "      <td>38.0000</td>\n",
       "      <td>7.50</td>\n",
       "      <td>38.000</td>\n",
       "      <td>0.0000</td>\n",
       "      <td>0.00</td>\n",
       "      <td>0.0</td>\n",
       "      <td>0.0</td>\n",
       "      <td>0.0</td>\n",
       "      <td>0.0</td>\n",
       "      <td>-1.50</td>\n",
       "      <td>0.0000</td>\n",
       "      <td>0.000000</td>\n",
       "      <td>0.0</td>\n",
       "      <td>0.000000</td>\n",
       "      <td>0.0</td>\n",
       "      <td>0.000000</td>\n",
       "      <td>0.0</td>\n",
       "      <td>3.666667</td>\n",
       "      <td>0.0</td>\n",
       "      <td>1.333333</td>\n",
       "      <td>0.0</td>\n",
       "      <td>3.666667</td>\n",
       "      <td>0.0</td>\n",
       "      <td>0.000000</td>\n",
       "      <td>0.000000</td>\n",
       "      <td>0.000000</td>\n",
       "      <td>1.333333</td>\n",
       "      <td>0.000000</td>\n",
       "      <td>8.410000</td>\n",
       "      <td>0.0</td>\n",
       "      <td>0.413333</td>\n",
       "      <td>0.333333</td>\n",
       "      <td>0.256667</td>\n",
       "      <td>0.000000</td>\n",
       "      <td>0.000000</td>\n",
       "      <td>1.333333</td>\n",
       "      <td>0.0</td>\n",
       "      <td>3.380000</td>\n",
       "      <td>0.0</td>\n",
       "      <td>3.666667</td>\n",
       "      <td>0.0</td>\n",
       "      <td>5.450000</td>\n",
       "      <td>0.0</td>\n",
       "      <td>0.000000</td>\n",
       "      <td>3.666667</td>\n",
       "      <td>3.666667</td>\n",
       "      <td>0.0</td>\n",
       "      <td>0.000000</td>\n",
       "      <td>0</td>\n",
       "      <td>60</td>\n",
       "      <td>1</td>\n",
       "      <td>1</td>\n",
       "      <td>Y</td>\n",
       "      <td>B</td>\n",
       "      <td>N</td>\n",
       "      <td>1502</td>\n",
       "      <td>3065.00000</td>\n",
       "      <td>2000.90</td>\n",
       "      <td>1941.81</td>\n",
       "      <td>3035.00</td>\n",
       "      <td>1479</td>\n",
       "      <td>40.45</td>\n",
       "      <td>63.23</td>\n",
       "      <td>30.81</td>\n",
       "      <td>8</td>\n",
       "      <td>3</td>\n",
       "      <td>38</td>\n",
       "      <td>50.0</td>\n",
       "      <td>25.0</td>\n",
       "      <td>40.0</td>\n",
       "      <td>T</td>\n",
       "      <td>CHICAGO AREA</td>\n",
       "      <td>N</td>\n",
       "      <td>N</td>\n",
       "      <td>29.98999</td>\n",
       "      <td>1.0</td>\n",
       "      <td>1.0</td>\n",
       "      <td>NaN</td>\n",
       "      <td>0.0</td>\n",
       "      <td>0.0</td>\n",
       "      <td>NaN</td>\n",
       "      <td>6.0</td>\n",
       "      <td>M</td>\n",
       "      <td>M</td>\n",
       "      <td>4.0</td>\n",
       "      <td>M</td>\n",
       "      <td>6.0</td>\n",
       "      <td>1.0</td>\n",
       "      <td>C</td>\n",
       "      <td>D</td>\n",
       "      <td>0.0</td>\n",
       "      <td>U</td>\n",
       "      <td>Y</td>\n",
       "      <td>U</td>\n",
       "      <td>U</td>\n",
       "      <td>U</td>\n",
       "      <td>U</td>\n",
       "      <td>Y</td>\n",
       "      <td>1812.0</td>\n",
       "      <td>1000004</td>\n",
       "    </tr>\n",
       "    <tr>\n",
       "      <th>4</th>\n",
       "      <td>55.2300</td>\n",
       "      <td>570.50</td>\n",
       "      <td>71.980</td>\n",
       "      <td>0.0000</td>\n",
       "      <td>0.00</td>\n",
       "      <td>0.0</td>\n",
       "      <td>0.0</td>\n",
       "      <td>0.0</td>\n",
       "      <td>0.0</td>\n",
       "      <td>38.50</td>\n",
       "      <td>0.0000</td>\n",
       "      <td>9.666667</td>\n",
       "      <td>0.0</td>\n",
       "      <td>0.666667</td>\n",
       "      <td>0.0</td>\n",
       "      <td>77.000000</td>\n",
       "      <td>0.0</td>\n",
       "      <td>222.333333</td>\n",
       "      <td>0.0</td>\n",
       "      <td>94.666667</td>\n",
       "      <td>0.0</td>\n",
       "      <td>137.000000</td>\n",
       "      <td>0.0</td>\n",
       "      <td>8.666667</td>\n",
       "      <td>15.000000</td>\n",
       "      <td>11.076667</td>\n",
       "      <td>66.000000</td>\n",
       "      <td>0.000000</td>\n",
       "      <td>285.233333</td>\n",
       "      <td>0.0</td>\n",
       "      <td>106.330000</td>\n",
       "      <td>14.666667</td>\n",
       "      <td>10.816667</td>\n",
       "      <td>0.666667</td>\n",
       "      <td>0.366667</td>\n",
       "      <td>97.333333</td>\n",
       "      <td>0.0</td>\n",
       "      <td>173.476667</td>\n",
       "      <td>0.0</td>\n",
       "      <td>90.333333</td>\n",
       "      <td>0.0</td>\n",
       "      <td>218.086667</td>\n",
       "      <td>0.0</td>\n",
       "      <td>10.333333</td>\n",
       "      <td>222.333333</td>\n",
       "      <td>137.000000</td>\n",
       "      <td>0.0</td>\n",
       "      <td>0.000000</td>\n",
       "      <td>0</td>\n",
       "      <td>57</td>\n",
       "      <td>1</td>\n",
       "      <td>1</td>\n",
       "      <td>Y</td>\n",
       "      <td>A</td>\n",
       "      <td>N</td>\n",
       "      <td>4485</td>\n",
       "      <td>14028.00000</td>\n",
       "      <td>2181.12</td>\n",
       "      <td>2166.48</td>\n",
       "      <td>13965.00</td>\n",
       "      <td>4452</td>\n",
       "      <td>38.69</td>\n",
       "      <td>249.38</td>\n",
       "      <td>79.50</td>\n",
       "      <td>558</td>\n",
       "      <td>191</td>\n",
       "      <td>55</td>\n",
       "      <td>586.0</td>\n",
       "      <td>196.0</td>\n",
       "      <td>80.0</td>\n",
       "      <td>U</td>\n",
       "      <td>NEW ENGLAND AREA</td>\n",
       "      <td>Y</td>\n",
       "      <td>N</td>\n",
       "      <td>149.98999</td>\n",
       "      <td>6.0</td>\n",
       "      <td>4.0</td>\n",
       "      <td>WCMB</td>\n",
       "      <td>0.0</td>\n",
       "      <td>0.0</td>\n",
       "      <td>R</td>\n",
       "      <td>5.0</td>\n",
       "      <td>M</td>\n",
       "      <td>S</td>\n",
       "      <td>1.0</td>\n",
       "      <td>M</td>\n",
       "      <td>6.0</td>\n",
       "      <td>1.0</td>\n",
       "      <td>C</td>\n",
       "      <td>O</td>\n",
       "      <td>0.0</td>\n",
       "      <td>I</td>\n",
       "      <td>U</td>\n",
       "      <td>U</td>\n",
       "      <td>U</td>\n",
       "      <td>U</td>\n",
       "      <td>U</td>\n",
       "      <td>Y</td>\n",
       "      <td>434.0</td>\n",
       "      <td>1000005</td>\n",
       "    </tr>\n",
       "  </tbody>\n",
       "</table>\n",
       "</div>"
      ],
      "text/plain": [
       "   rev_Mean  mou_Mean  totmrc_Mean  da_Mean  ovrmou_Mean  ovrrev_Mean  \\\n",
       "0   23.9975    219.25       22.500   0.2475         0.00          0.0   \n",
       "1   57.4925    482.75       37.425   0.2475        22.75          9.1   \n",
       "2   16.9900     10.25       16.990   0.0000         0.00          0.0   \n",
       "3   38.0000      7.50       38.000   0.0000         0.00          0.0   \n",
       "4   55.2300    570.50       71.980   0.0000         0.00          0.0   \n",
       "\n",
       "   vceovr_Mean  datovr_Mean  roam_Mean  change_mou  change_rev  drop_vce_Mean  \\\n",
       "0          0.0          0.0        0.0     -157.25    -18.9975       0.666667   \n",
       "1          9.1          0.0        0.0      532.25     50.9875       8.333333   \n",
       "2          0.0          0.0        0.0       -4.25      0.0000       0.333333   \n",
       "3          0.0          0.0        0.0       -1.50      0.0000       0.000000   \n",
       "4          0.0          0.0        0.0       38.50      0.0000       9.666667   \n",
       "\n",
       "   drop_dat_Mean  blck_vce_Mean  blck_dat_Mean  unan_vce_Mean  unan_dat_Mean  \\\n",
       "0            0.0       0.666667            0.0       6.333333            0.0   \n",
       "1            0.0       1.000000            0.0      61.333333            0.0   \n",
       "2            0.0       0.000000            0.0       2.666667            0.0   \n",
       "3            0.0       0.000000            0.0       0.000000            0.0   \n",
       "4            0.0       0.666667            0.0      77.000000            0.0   \n",
       "\n",
       "   plcd_vce_Mean  plcd_dat_Mean  recv_vce_Mean  recv_sms_Mean  comp_vce_Mean  \\\n",
       "0      52.333333            0.0      42.333333            0.0      45.000000   \n",
       "1     263.333333            0.0      69.000000            0.0     193.333333   \n",
       "2       9.000000            0.0       0.333333            0.0       6.000000   \n",
       "3       3.666667            0.0       1.333333            0.0       3.666667   \n",
       "4     222.333333            0.0      94.666667            0.0     137.000000   \n",
       "\n",
       "   comp_dat_Mean  custcare_Mean  ccrndmou_Mean  cc_mou_Mean  inonemin_Mean  \\\n",
       "0            0.0       0.000000       0.000000     0.000000      18.000000   \n",
       "1            0.0       1.666667       6.333333     5.463333      53.000000   \n",
       "2            0.0       0.000000       0.000000     0.000000       0.333333   \n",
       "3            0.0       0.000000       0.000000     0.000000       1.333333   \n",
       "4            0.0       8.666667      15.000000    11.076667      66.000000   \n",
       "\n",
       "   threeway_Mean  mou_cvce_Mean  mou_cdat_Mean  mou_rvce_Mean  \\\n",
       "0       0.000000      90.643333            0.0      97.176667   \n",
       "1       0.333333     189.396667            0.0      55.280000   \n",
       "2       0.000000       5.426667            0.0       0.000000   \n",
       "3       0.000000       8.410000            0.0       0.413333   \n",
       "4       0.000000     285.233333            0.0     106.330000   \n",
       "\n",
       "   owylis_vce_Mean  mouowylisv_Mean  iwylis_vce_Mean  mouiwylisv_Mean  \\\n",
       "0         0.000000         0.000000         0.000000         0.000000   \n",
       "1        46.333333        24.216667         6.333333         3.696667   \n",
       "2         0.000000         0.000000         0.000000         0.000000   \n",
       "3         0.333333         0.256667         0.000000         0.000000   \n",
       "4        14.666667        10.816667         0.666667         0.366667   \n",
       "\n",
       "   peak_vce_Mean  peak_dat_Mean  mou_peav_Mean  mou_pead_Mean  opk_vce_Mean  \\\n",
       "0      58.000000            0.0     132.600000            0.0     24.000000   \n",
       "1      83.666667            0.0      75.333333            0.0    157.000000   \n",
       "2       5.000000            0.0       5.193333            0.0      1.000000   \n",
       "3       1.333333            0.0       3.380000            0.0      3.666667   \n",
       "4      97.333333            0.0     173.476667            0.0     90.333333   \n",
       "\n",
       "   opk_dat_Mean  mou_opkv_Mean  mou_opkd_Mean  drop_blk_Mean  attempt_Mean  \\\n",
       "0           0.0      55.220000            0.0       1.333333     52.333333   \n",
       "1           0.0     169.343333            0.0       9.333333    263.333333   \n",
       "2           0.0       0.233333            0.0       0.333333      9.000000   \n",
       "3           0.0       5.450000            0.0       0.000000      3.666667   \n",
       "4           0.0     218.086667            0.0      10.333333    222.333333   \n",
       "\n",
       "   complete_Mean  callfwdv_Mean  callwait_Mean  churn  months  uniqsubs  \\\n",
       "0      45.000000            0.0       0.333333      1      61         2   \n",
       "1     193.333333            0.0       5.666667      0      56         1   \n",
       "2       6.000000            0.0       0.000000      1      58         1   \n",
       "3       3.666667            0.0       0.000000      0      60         1   \n",
       "4     137.000000            0.0       0.000000      0      57         1   \n",
       "\n",
       "   actvsubs new_cell crclscod asl_flag  totcalls       totmou   totrev  \\\n",
       "0         1        U        A        N      1652   4228.00000  1504.62   \n",
       "1         1        N       EA        N     14654  26400.00000  2851.68   \n",
       "2         1        Y        C        N      7903  24385.05333  2155.91   \n",
       "3         1        Y        B        N      1502   3065.00000  2000.90   \n",
       "4         1        Y        A        N      4485  14028.00000  2181.12   \n",
       "\n",
       "    adjrev    adjmou  adjqty  avgrev  avgmou  avgqty  avg3mou  avg3qty  \\\n",
       "0  1453.44   4085.00    1602   29.66   83.37   32.69      272      116   \n",
       "1  2833.88  26367.00   14624   51.53  479.40  265.89      305      158   \n",
       "2  1934.47  24303.05    7888   34.54  433.98  140.86       12        7   \n",
       "3  1941.81   3035.00    1479   40.45   63.23   30.81        8        3   \n",
       "4  2166.48  13965.00    4452   38.69  249.38   79.50      558      191   \n",
       "\n",
       "   avg3rev  avg6mou  avg6qty  avg6rev prizm_social_one  \\\n",
       "0       30    322.0    136.0     38.0                S   \n",
       "1       40    477.0    275.0     48.0                U   \n",
       "2       17     11.0      6.0     17.0                S   \n",
       "3       38     50.0     25.0     40.0                T   \n",
       "4       55    586.0    196.0     80.0                U   \n",
       "\n",
       "                            area dualband refurb_new  hnd_price  phones  \\\n",
       "0  NORTHWEST/ROCKY MOUNTAIN AREA        Y          N  149.98999     2.0   \n",
       "1                   CHICAGO AREA        N          N        NaN     7.0   \n",
       "2               GREAT LAKES AREA        N          N   29.98999     2.0   \n",
       "3                   CHICAGO AREA        N          N   29.98999     1.0   \n",
       "4               NEW ENGLAND AREA        Y          N  149.98999     6.0   \n",
       "\n",
       "   models hnd_webcap  truck   rv ownrent   lor dwlltype marital  adults  \\\n",
       "0     2.0       WCMB    0.0  0.0       O  15.0        S       S     1.0   \n",
       "1     6.0         WC    1.0  1.0     NaN   1.0        S       S     1.0   \n",
       "2     1.0        NaN    0.0  0.0       O   7.0        S       M     2.0   \n",
       "3     1.0        NaN    0.0  0.0     NaN   6.0        M       M     4.0   \n",
       "4     4.0       WCMB    0.0  0.0       R   5.0        M       S     1.0   \n",
       "\n",
       "  infobase  income  numbcars HHstatin dwllsize  forgntvl ethnic kid0_2 kid3_5  \\\n",
       "0        M     4.0       3.0        C        A       0.0      N      U      U   \n",
       "1        M     5.0       1.0        C        A       0.0      Z      U      U   \n",
       "2        M     5.0       2.0        C        A       0.0      N      U      Y   \n",
       "3        M     6.0       1.0        C        D       0.0      U      Y      U   \n",
       "4        M     6.0       1.0        C        O       0.0      I      U      U   \n",
       "\n",
       "  kid6_10 kid11_15 kid16_17 creditcd  eqpdays  Customer_ID  \n",
       "0       U        U        U        Y    361.0      1000001  \n",
       "1       U        U        U        Y    240.0      1000002  \n",
       "2       U        U        U        Y   1504.0      1000003  \n",
       "3       U        U        U        Y   1812.0      1000004  \n",
       "4       U        U        U        Y    434.0      1000005  "
      ]
     },
     "execution_count": 80,
     "metadata": {},
     "output_type": "execute_result"
    }
   ],
   "source": [
    "raw_data.head(5)"
   ]
  },
  {
   "cell_type": "markdown",
   "metadata": {},
   "source": [
    "The data description claims that Customer ID is a primary key for this table (no duplicate customer data). We first verify that this is true, and if so, set it as the index"
   ]
  },
  {
   "cell_type": "code",
   "execution_count": 82,
   "metadata": {
    "scrolled": true
   },
   "outputs": [
    {
     "name": "stdout",
     "output_type": "stream",
     "text": [
      "Customer ID is a primary key\n"
     ]
    }
   ],
   "source": [
    "if raw_data.shape[0] == raw_data['Customer_ID'].nunique():\n",
    "    raw_data = raw_data.set_index('Customer_ID')\n",
    "    print('Customer ID is a primary key')"
   ]
  },
  {
   "cell_type": "markdown",
   "metadata": {},
   "source": [
    "Cast all column names to lower case and order them alphabetically for ease of use"
   ]
  },
  {
   "cell_type": "code",
   "execution_count": 83,
   "metadata": {},
   "outputs": [],
   "source": [
    "raw_data.columns = map(str.lower,raw_data.columns)\n",
    "raw_data = raw_data[np.sort(raw_data.columns)]"
   ]
  },
  {
   "cell_type": "markdown",
   "metadata": {},
   "source": [
    "## Handling column descriptions"
   ]
  },
  {
   "cell_type": "markdown",
   "metadata": {},
   "source": [
    "Since there is literally a hundred columns in this dataset, we may want to group similar columns together and analyze them group by group for a easier time. We just want a quick look so we won't use any complicated state of the art NLP methods, and stick with the tried and true, quick and dirty method of tfidf+kmeans clustering."
   ]
  },
  {
   "cell_type": "code",
   "execution_count": 59,
   "metadata": {},
   "outputs": [],
   "source": [
    "from sklearn.feature_extraction.text import TfidfVectorizer\n",
    "from sklearn.cluster import KMeans\n",
    "import gensim\n",
    "import spacy"
   ]
  },
  {
   "cell_type": "markdown",
   "metadata": {},
   "source": [
    "### read-in column descriptions"
   ]
  },
  {
   "cell_type": "markdown",
   "metadata": {},
   "source": [
    "column descriptions are scraped straight from the kaggle website via beautifulsoup"
   ]
  },
  {
   "cell_type": "code",
   "execution_count": 139,
   "metadata": {},
   "outputs": [],
   "source": [
    "col_desc = pd.read_json('columnDescriptions.json',orient='index')[0].rename('col_desc').to_frame()"
   ]
  },
  {
   "cell_type": "code",
   "execution_count": 140,
   "metadata": {},
   "outputs": [],
   "source": [
    "#set it to all lower case like we did column names in raw data\n",
    "col_desc.index = col_desc.index.str.lower()\n",
    "#pull out customer_id since it is just a primary key\n",
    "col_desc = col_desc.drop(['customer_id'])\n",
    "#pull out churn since it is our target variable\n",
    "col_desc = col_desc.drop(['churn'])"
   ]
  },
  {
   "cell_type": "code",
   "execution_count": 141,
   "metadata": {
    "scrolled": true
   },
   "outputs": [
    {
     "data": {
      "text/html": [
       "<div>\n",
       "<style scoped>\n",
       "    .dataframe tbody tr th:only-of-type {\n",
       "        vertical-align: middle;\n",
       "    }\n",
       "\n",
       "    .dataframe tbody tr th {\n",
       "        vertical-align: top;\n",
       "    }\n",
       "\n",
       "    .dataframe thead th {\n",
       "        text-align: right;\n",
       "    }\n",
       "</style>\n",
       "<table border=\"1\" class=\"dataframe\">\n",
       "  <thead>\n",
       "    <tr style=\"text-align: right;\">\n",
       "      <th></th>\n",
       "      <th>col_desc</th>\n",
       "    </tr>\n",
       "  </thead>\n",
       "  <tbody>\n",
       "    <tr>\n",
       "      <th>rev_mean</th>\n",
       "      <td>Mean monthly revenue (charge amount)</td>\n",
       "    </tr>\n",
       "    <tr>\n",
       "      <th>mou_mean</th>\n",
       "      <td>Mean number of monthly minutes of use</td>\n",
       "    </tr>\n",
       "    <tr>\n",
       "      <th>totmrc_mean</th>\n",
       "      <td>Mean total monthly recurring charge</td>\n",
       "    </tr>\n",
       "    <tr>\n",
       "      <th>da_mean</th>\n",
       "      <td>Mean number of directory assisted calls</td>\n",
       "    </tr>\n",
       "    <tr>\n",
       "      <th>ovrmou_mean</th>\n",
       "      <td>Mean overage minutes of use</td>\n",
       "    </tr>\n",
       "  </tbody>\n",
       "</table>\n",
       "</div>"
      ],
      "text/plain": [
       "                                            col_desc\n",
       "rev_mean        Mean monthly revenue (charge amount)\n",
       "mou_mean       Mean number of monthly minutes of use\n",
       "totmrc_mean      Mean total monthly recurring charge\n",
       "da_mean      Mean number of directory assisted calls\n",
       "ovrmou_mean              Mean overage minutes of use"
      ]
     },
     "execution_count": 141,
     "metadata": {},
     "output_type": "execute_result"
    }
   ],
   "source": [
    "col_desc.head(5)"
   ]
  },
  {
   "cell_type": "markdown",
   "metadata": {},
   "source": [
    "### Preprocess column descriptions"
   ]
  },
  {
   "cell_type": "code",
   "execution_count": 142,
   "metadata": {},
   "outputs": [],
   "source": [
    "#Remove stop words\n",
    "col_desc['clean_desc'] = (\n",
    "    col_desc['col_desc']\n",
    "    .apply(gensim.parsing.preprocessing.remove_stopwords)\n",
    ")\n",
    "\n",
    "#Remove characters that are not decimals,\n",
    "#not letters, and not white space\n",
    "col_desc['clean_desc'] = (\n",
    "    col_desc['clean_desc']\n",
    "    .str.replace('[^a-zA-Z0-9_ ]','')\n",
    ")\n",
    "#Replace double whitespace with single space\n",
    "#created from operation above\n",
    "col_desc['clean_desc'] = (\n",
    "    col_desc['clean_desc']\n",
    "    .str.replace('  ',' ')\n",
    ")"
   ]
  },
  {
   "cell_type": "code",
   "execution_count": 143,
   "metadata": {},
   "outputs": [],
   "source": [
    "nlp = spacy.load('en_core_web_sm')"
   ]
  },
  {
   "cell_type": "code",
   "execution_count": 144,
   "metadata": {},
   "outputs": [],
   "source": [
    "#Tokenize words in the cleaned description and lemmatize them\n",
    "col_desc['tokenized'] = col_desc['clean_desc'].apply(lambda x: [token.lemma_ for token in nlp(x)])\n",
    "#Join lemmatized tokens back into single string for ease of use\n",
    "col_desc['lemmatized'] = col_desc['tokenized'].apply(lambda x: ' '.join(x))"
   ]
  },
  {
   "cell_type": "code",
   "execution_count": 145,
   "metadata": {},
   "outputs": [
    {
     "data": {
      "text/html": [
       "<div>\n",
       "<style scoped>\n",
       "    .dataframe tbody tr th:only-of-type {\n",
       "        vertical-align: middle;\n",
       "    }\n",
       "\n",
       "    .dataframe tbody tr th {\n",
       "        vertical-align: top;\n",
       "    }\n",
       "\n",
       "    .dataframe thead th {\n",
       "        text-align: right;\n",
       "    }\n",
       "</style>\n",
       "<table border=\"1\" class=\"dataframe\">\n",
       "  <thead>\n",
       "    <tr style=\"text-align: right;\">\n",
       "      <th></th>\n",
       "      <th>col_desc</th>\n",
       "      <th>clean_desc</th>\n",
       "      <th>tokenized</th>\n",
       "      <th>lemmatized</th>\n",
       "    </tr>\n",
       "  </thead>\n",
       "  <tbody>\n",
       "    <tr>\n",
       "      <th>rev_mean</th>\n",
       "      <td>Mean monthly revenue (charge amount)</td>\n",
       "      <td>Mean monthly revenue charge amount</td>\n",
       "      <td>[mean, monthly, revenue, charge, amount]</td>\n",
       "      <td>mean monthly revenue charge amount</td>\n",
       "    </tr>\n",
       "    <tr>\n",
       "      <th>mou_mean</th>\n",
       "      <td>Mean number of monthly minutes of use</td>\n",
       "      <td>Mean number monthly minutes use</td>\n",
       "      <td>[mean, number, monthly, minute, use]</td>\n",
       "      <td>mean number monthly minute use</td>\n",
       "    </tr>\n",
       "    <tr>\n",
       "      <th>totmrc_mean</th>\n",
       "      <td>Mean total monthly recurring charge</td>\n",
       "      <td>Mean total monthly recurring charge</td>\n",
       "      <td>[mean, total, monthly, recur, charge]</td>\n",
       "      <td>mean total monthly recur charge</td>\n",
       "    </tr>\n",
       "    <tr>\n",
       "      <th>da_mean</th>\n",
       "      <td>Mean number of directory assisted calls</td>\n",
       "      <td>Mean number directory assisted calls</td>\n",
       "      <td>[mean, number, directory, assist, call]</td>\n",
       "      <td>mean number directory assist call</td>\n",
       "    </tr>\n",
       "    <tr>\n",
       "      <th>ovrmou_mean</th>\n",
       "      <td>Mean overage minutes of use</td>\n",
       "      <td>Mean overage minutes use</td>\n",
       "      <td>[mean, overage, minute, use]</td>\n",
       "      <td>mean overage minute use</td>\n",
       "    </tr>\n",
       "  </tbody>\n",
       "</table>\n",
       "</div>"
      ],
      "text/plain": [
       "                                            col_desc  \\\n",
       "rev_mean        Mean monthly revenue (charge amount)   \n",
       "mou_mean       Mean number of monthly minutes of use   \n",
       "totmrc_mean      Mean total monthly recurring charge   \n",
       "da_mean      Mean number of directory assisted calls   \n",
       "ovrmou_mean              Mean overage minutes of use   \n",
       "\n",
       "                                       clean_desc  \\\n",
       "rev_mean       Mean monthly revenue charge amount   \n",
       "mou_mean          Mean number monthly minutes use   \n",
       "totmrc_mean   Mean total monthly recurring charge   \n",
       "da_mean      Mean number directory assisted calls   \n",
       "ovrmou_mean              Mean overage minutes use   \n",
       "\n",
       "                                            tokenized  \\\n",
       "rev_mean     [mean, monthly, revenue, charge, amount]   \n",
       "mou_mean         [mean, number, monthly, minute, use]   \n",
       "totmrc_mean     [mean, total, monthly, recur, charge]   \n",
       "da_mean       [mean, number, directory, assist, call]   \n",
       "ovrmou_mean              [mean, overage, minute, use]   \n",
       "\n",
       "                                     lemmatized  \n",
       "rev_mean     mean monthly revenue charge amount  \n",
       "mou_mean         mean number monthly minute use  \n",
       "totmrc_mean     mean total monthly recur charge  \n",
       "da_mean       mean number directory assist call  \n",
       "ovrmou_mean             mean overage minute use  "
      ]
     },
     "execution_count": 145,
     "metadata": {},
     "output_type": "execute_result"
    }
   ],
   "source": [
    "col_desc.head(5)"
   ]
  },
  {
   "cell_type": "markdown",
   "metadata": {},
   "source": [
    "### Tfidf"
   ]
  },
  {
   "cell_type": "markdown",
   "metadata": {},
   "source": [
    "Transform our column descriptions into a tf-idf matrix so that we have numerical data to work with"
   ]
  },
  {
   "cell_type": "code",
   "execution_count": 146,
   "metadata": {},
   "outputs": [],
   "source": [
    "tfidf = TfidfVectorizer()\n",
    "tfidfMatrix = tfidf.fit_transform(col_desc['lemmatized'])"
   ]
  },
  {
   "cell_type": "markdown",
   "metadata": {},
   "source": [
    "### kmeans grouping"
   ]
  },
  {
   "cell_type": "markdown",
   "metadata": {},
   "source": [
    "We'll try to cluster similar columns together via K-Means since its quic and dirty."
   ]
  },
  {
   "cell_type": "code",
   "execution_count": 280,
   "metadata": {},
   "outputs": [],
   "source": [
    "#import utility functions\n",
    "from JeffUtils import graph_cluster_wc, graph_elbow"
   ]
  },
  {
   "cell_type": "markdown",
   "metadata": {},
   "source": [
    "We try values from 5-20 clusters for the number of clusters parameter of K-Means"
   ]
  },
  {
   "cell_type": "code",
   "execution_count": 242,
   "metadata": {},
   "outputs": [],
   "source": [
    "kmeans = []\n",
    "for i in range(5,21):\n",
    "    km = KMeans(n_clusters=i,random_state=RANDOM_SEED)\n",
    "    km.fit_predict(tfidfMatrix.toarray())\n",
    "    kmeans.append((i,km.inertia_))"
   ]
  },
  {
   "cell_type": "markdown",
   "metadata": {},
   "source": [
    "Then determine the elbow of the loss. The elbow is calculated via the second derivative of the loss curve at every point, and the point with the highest second derivative is chosen as our parameter for the number of clusters. From the graph below, we see that the optimal number of clusters would be 6 clusters."
   ]
  },
  {
   "cell_type": "code",
   "execution_count": 243,
   "metadata": {
    "scrolled": true
   },
   "outputs": [
    {
     "data": {
      "image/png": "[encoded data removed]",
      "text/plain": [
       "<Figure size 432x288 with 1 Axes>"
      ]
     },
     "metadata": {
      "needs_background": "light"
     },
     "output_type": "display_data"
    }
   ],
   "source": [
    "loss = pd.DataFrame(kmeans)[1].rename('loss')\n",
    "#since the min number of clusters tested started at 5\n",
    "loss.index = loss.index+5\n",
    "#graph loss at every point and returns optimal point\n",
    "elbow = graph_elbow(loss) "
   ]
  },
  {
   "cell_type": "markdown",
   "metadata": {},
   "source": [
    "we'll use the determined elbow as our n_cluster parameter to run kmeans"
   ]
  },
  {
   "cell_type": "code",
   "execution_count": 256,
   "metadata": {},
   "outputs": [],
   "source": [
    "kmeans = KMeans(n_clusters=elbow,random_state=RANDOM_SEED)\n",
    "col_desc['kmeans_class'] = kmeans.fit_predict(tfidfMatrix.toarray())"
   ]
  },
  {
   "cell_type": "code",
   "execution_count": 283,
   "metadata": {},
   "outputs": [],
   "source": [
    "from JeffUtils import graph_all_cluster_wc"
   ]
  },
  {
   "cell_type": "markdown",
   "metadata": {},
   "source": [
    "We now graph the 5 most common words appearing in each cluster, with the x axis representing the percentage of column descriptions in the cluster that contains the word in question. Some clusters have clearly defined themes, while others may not. The below summarizes what each column description cluster is likely primarily representing. \n",
    "\n",
    "- cluster 0 doesn't seem to have a unified theme, since the percentage of descriptions sharing each common word is very low. The cluster is therefore likely a collection of descriptions that do not fit well into other clusters. We should check this cluster out later on. \n",
    "- cluster 1 seems to deal with general call statistics\n",
    "- cluster 2 deals with statistics relate to minutes\n",
    "- cluster 3 deals with monthly statistics\n",
    "- cluster 4 deals with statstics of the customer household\n",
    "- cluster 5 deals with statistics across the customer's life "
   ]
  },
  {
   "cell_type": "code",
   "execution_count": 285,
   "metadata": {},
   "outputs": [
    {
     "data": {
      "image/png": "[encoded data removed]",
      "text/plain": [
       "<Figure size 720x432 with 6 Axes>"
      ]
     },
     "metadata": {
      "needs_background": "light"
     },
     "output_type": "display_data"
    }
   ],
   "source": [
    "graph_all_cluster_wc(col_desc,'kmeans_class',figsize=(10,6))"
   ]
  },
  {
   "cell_type": "markdown",
   "metadata": {},
   "source": [
    "We can also use T-SNE with default parameters to reduce our high dimensional dataset to two dimensions, so that we may graph our clusters for a quick sanity check. If the graph shows relatively clear demarcation of clusters, it means our \"most common word\" analysis from before actually represent each cluster well. If certain clusters do not have clear demarcations, we may need to double check that the clusters should actually be separated, and our K-Means didn't make a mistake. "
   ]
  },
  {
   "cell_type": "code",
   "execution_count": 251,
   "metadata": {},
   "outputs": [],
   "source": [
    "from sklearn.manifold import TSNE"
   ]
  },
  {
   "cell_type": "code",
   "execution_count": 292,
   "metadata": {},
   "outputs": [],
   "source": [
    "tsne = TSNE(n_components=2,\n",
    "            perplexity = 30,\n",
    "            learning_rate='auto',\n",
    "            init='pca',\n",
    "            random_state=RANDOM_SEED)\n",
    "tsneX = tsne.fit_transform(tfidfMatrix.toarray())"
   ]
  },
  {
   "cell_type": "markdown",
   "metadata": {},
   "source": [
    "It seems like clusters 1 and 2 have very similar descriptions as their datapoints are pretty intermingled, while the other clusters all have relatively more clearly defined clusters. We should double check that cluster 1 and 2 actually contain descriptions of different topics, and our K-Means didn't separate the descriptions within these two clusters due to some mathematical quirk"
   ]
  },
  {
   "cell_type": "code",
   "execution_count": 289,
   "metadata": {},
   "outputs": [
    {
     "data": {
      "text/plain": [
       "<matplotlib.legend.Legend at 0x25ce5400fd0>"
      ]
     },
     "execution_count": 289,
     "metadata": {},
     "output_type": "execute_result"
    },
    {
     "data": {
      "image/png": "[encoded data removed]",
      "text/plain": [
       "<Figure size 432x288 with 1 Axes>"
      ]
     },
     "metadata": {
      "needs_background": "light"
     },
     "output_type": "display_data"
    }
   ],
   "source": [
    "sns.scatterplot(\n",
    "    x=tsneX[:,0],y=tsneX[:,1],hue=col_desc['kmeans_class'],\n",
    "    palette=sns.color_palette(\"tab10\")[:col_desc['kmeans_class'].nunique()]\n",
    ")\n",
    "plt.legend(bbox_to_anchor=(1.05, 1), loc=2, borderaxespad=0.)"
   ]
  },
  {
   "cell_type": "markdown",
   "metadata": {},
   "source": [
    "create a list of clustered column names for easier access and examination"
   ]
  },
  {
   "cell_type": "code",
   "execution_count": 327,
   "metadata": {},
   "outputs": [
    {
     "data": {
      "text/plain": [
       "typing.Union[str, list]"
      ]
     },
     "execution_count": 327,
     "metadata": {},
     "output_type": "execute_result"
    }
   ],
   "source": [
    "Union[str,list]"
   ]
  },
  {
   "cell_type": "code",
   "execution_count": 337,
   "metadata": {},
   "outputs": [],
   "source": [
    "def get_clusters_list()->list:\n",
    "    \"\"\"returns a list where index corresponds\n",
    "    to cluster id from kmeans clustering\n",
    "    \"\"\"\n",
    "    clusters = []\n",
    "    for cluster_id in np.sort(col_desc['kmeans_class'].unique()):\n",
    "        clusters.append(\n",
    "            col_desc[col_desc['kmeans_class']==cluster_id].index\n",
    "        )\n",
    "    return clusters\n",
    "\n",
    "def get_col_desc(col_name:Union[str,List[str]])->Union[str,List[str]]:\n",
    "    \"\"\"get column description from column name\n",
    "    \"\"\"\n",
    "    return col_desc.loc[col_name]['col_desc']"
   ]
  },
  {
   "cell_type": "code",
   "execution_count": 287,
   "metadata": {},
   "outputs": [],
   "source": [
    "clusters = get_clusters_list()"
   ]
  },
  {
   "cell_type": "markdown",
   "metadata": {},
   "source": [
    "We randomly sample 5 descriptions from each cluster to avoid being overwhelmed. From these samples, we see:\n",
    "- Cluster 1 does indeed deal with general call statistics, while cluster 2 deals with statistics related to minutes.\n",
    "- The reason the two clusters are so similar is because they both deal with a variety of similar statistics, but one breaks down said statistics by calls while the other by minutes. Hence, the K-Means was right to cluster them this way."
   ]
  },
  {
   "cell_type": "code",
   "execution_count": 340,
   "metadata": {},
   "outputs": [
    {
     "data": {
      "text/plain": [
       "da_mean             Mean number of directory assisted calls\n",
       "blck_dat_mean    Mean number of blocked (failed) data calls\n",
       "comp_vce_mean          Mean number of completed voice calls\n",
       "recv_vce_mean           Mean number of received voice calls\n",
       "attempt_mean                Mean number of attempted calls \n",
       "Name: col_desc, dtype: object"
      ]
     },
     "execution_count": 340,
     "metadata": {},
     "output_type": "execute_result"
    }
   ],
   "source": [
    "get_col_desc(clusters[1]).sample(n=5,random_state=RANDOM_SEED)"
   ]
  },
  {
   "cell_type": "code",
   "execution_count": 341,
   "metadata": {},
   "outputs": [
    {
     "data": {
      "text/plain": [
       "mou_cvce_mean    Mean unrounded minutes of use of completed voi...\n",
       "cc_mou_mean      Mean unrounded minutes of use of customer care...\n",
       "ovrmou_mean                            Mean overage minutes of use\n",
       "mou_mean                     Mean number of monthly minutes of use\n",
       "inonemin_mean    Mean number of inbound calls less than one minute\n",
       "Name: col_desc, dtype: object"
      ]
     },
     "execution_count": 341,
     "metadata": {},
     "output_type": "execute_result"
    }
   ],
   "source": [
    "get_col_desc(clusters[2]).sample(n=5,random_state=RANDOM_SEED)"
   ]
  },
  {
   "cell_type": "markdown",
   "metadata": {},
   "source": [
    "Lastly, a quick look at cluster 0 does confirm our early suspicion that it is a collection of disparate column descriptions"
   ]
  },
  {
   "cell_type": "code",
   "execution_count": 342,
   "metadata": {},
   "outputs": [
    {
     "data": {
      "text/plain": [
       "datovr_mean                Mean revenue of data overage\n",
       "refurb_new                  Handset: refurbished or new\n",
       "rev_mean           Mean monthly revenue (charge amount)\n",
       "dualband                                       Dualband\n",
       "iwylis_vce_mean                                       N\n",
       "Name: col_desc, dtype: object"
      ]
     },
     "execution_count": 342,
     "metadata": {},
     "output_type": "execute_result"
    }
   ],
   "source": [
    "get_col_desc(clusters[0]).sample(n=5,random_state=RANDOM_SEED)"
   ]
  },
  {
   "cell_type": "markdown",
   "metadata": {},
   "source": [
    "# EDA"
   ]
  },
  {
   "cell_type": "code",
   "execution_count": 455,
   "metadata": {},
   "outputs": [],
   "source": [
    "from JeffUtils import jeff_histplot"
   ]
  },
  {
   "cell_type": "markdown",
   "metadata": {},
   "source": [
    "## Missing values"
   ]
  },
  {
   "cell_type": "code",
   "execution_count": 512,
   "metadata": {},
   "outputs": [],
   "source": [
    "percentage_na = (raw_data.isna().sum().sort_values(ascending=False)/raw_data.shape[0])"
   ]
  },
  {
   "cell_type": "code",
   "execution_count": 514,
   "metadata": {},
   "outputs": [
    {
     "data": {
      "text/plain": [
       "(43,)"
      ]
     },
     "execution_count": 514,
     "metadata": {},
     "output_type": "execute_result"
    }
   ],
   "source": [
    "percentage_na[percentage_na>0].shape"
   ]
  },
  {
   "cell_type": "markdown",
   "metadata": {},
   "source": [
    "Lets take a look at absolute correlation values to see if any particular column already has a high predictive value on churn by itself"
   ]
  },
  {
   "cell_type": "code",
   "execution_count": 482,
   "metadata": {},
   "outputs": [],
   "source": [
    "corrs = raw_data.corr()\n",
    "churn_corrs = corrs['churn']"
   ]
  },
  {
   "cell_type": "markdown",
   "metadata": {},
   "source": [
    "Below we see that most of the columns having low correlation values, hence it doesn't seem like any particular column has high predictive power by itself"
   ]
  },
  {
   "cell_type": "code",
   "execution_count": 483,
   "metadata": {},
   "outputs": [
    {
     "data": {
      "text/plain": [
       "<AxesSubplot:xlabel='churn', ylabel='Count'>"
      ]
     },
     "execution_count": 483,
     "metadata": {},
     "output_type": "execute_result"
    },
    {
     "data": {
      "image/png": "[encoded data removed]",
      "text/plain": [
       "<Figure size 432x288 with 1 Axes>"
      ]
     },
     "metadata": {
      "needs_background": "light"
     },
     "output_type": "display_data"
    }
   ],
   "source": [
    "#remove first element since it'll be churn's correlation with itself \n",
    "sorted_abs_corr = abs(churn_corrs).sort_values(ascending=False)[1:]\n",
    "jeff_histplot(sorted_abs_corr) "
   ]
  },
  {
   "cell_type": "markdown",
   "metadata": {},
   "source": [
    "It looks like the eqpdays and hnd_price columns have the highest correlation with churn. We'll take a look at these individually"
   ]
  },
  {
   "cell_type": "code",
   "execution_count": 471,
   "metadata": {},
   "outputs": [
    {
     "data": {
      "text/plain": [
       "eqpdays          0.112691\n",
       "hnd_price        0.103184\n",
       "totmrc_mean      0.068558\n",
       "mou_mean         0.057027\n",
       "mou_cvce_mean    0.052042\n",
       "Name: churn, dtype: float64"
      ]
     },
     "execution_count": 471,
     "metadata": {},
     "output_type": "execute_result"
    }
   ],
   "source": [
    "sorted_abs_corr.head(5)"
   ]
  },
  {
   "cell_type": "markdown",
   "metadata": {},
   "source": [
    "Seems like the longer you've been using the same equiment, the more likely you are going to churn"
   ]
  },
  {
   "cell_type": "code",
   "execution_count": 476,
   "metadata": {},
   "outputs": [
    {
     "data": {
      "text/plain": [
       "('Number of days (age) of current equipment', 0.11269140152670142)"
      ]
     },
     "execution_count": 476,
     "metadata": {},
     "output_type": "execute_result"
    }
   ],
   "source": [
    "get_col_desc('eqpdays'),churn_corrs['eqpdays']"
   ]
  },
  {
   "cell_type": "markdown",
   "metadata": {},
   "source": [
    "Seems like the more expensive the phone your plan is tied to, the less likely you are to churn"
   ]
  },
  {
   "cell_type": "code",
   "execution_count": 478,
   "metadata": {},
   "outputs": [
    {
     "data": {
      "text/plain": [
       "('Current handset price', -0.10318395803125995)"
      ]
     },
     "execution_count": 478,
     "metadata": {},
     "output_type": "execute_result"
    }
   ],
   "source": [
    "get_col_desc('hnd_price'),churn_corrs['hnd_price']"
   ]
  }
 ],
 "metadata": {
  "kernelspec": {
   "display_name": "Python 3",
   "language": "python",
   "name": "python3"
  },
  "language_info": {
   "codemirror_mode": {
    "name": "ipython",
    "version": 3
   },
   "file_extension": ".py",
   "mimetype": "text/x-python",
   "name": "python",
   "nbconvert_exporter": "python",
   "pygments_lexer": "ipython3",
   "version": "3.8.5"
  }
 },
 "nbformat": 4,
 "nbformat_minor": 4
}
