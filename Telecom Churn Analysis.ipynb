{
 "cells": [
  {
   "cell_type": "code",
   "execution_count": 2,
   "metadata": {},
   "outputs": [],
   "source": [
    "import pandas as pd\n",
    "import numpy as np\n",
    "import seaborn as sns\n",
    "import tqdm \n",
    "import matplotlib.pyplot as plt\n",
    "import math\n",
    "import scipy"
   ]
  },
  {
   "cell_type": "code",
   "execution_count": 4,
   "metadata": {},
   "outputs": [],
   "source": [
    "import xgboost as xgb\n",
    "import lightgbm as lgb\n",
    "import catboost as cat"
   ]
  },
  {
   "cell_type": "code",
   "execution_count": 5,
   "metadata": {},
   "outputs": [],
   "source": [
    "from sklearn.model_selection import train_test_split, StratifiedKFold\n",
    "from sklearn.compose import make_column_transformer\n",
    "from sklearn.preprocessing import FunctionTransformer, OneHotEncoder,OrdinalEncoder, MinMaxScaler\n",
    "from sklearn.pipeline import Pipeline\n",
    "from sklearn.model_selection import GridSearchCV\n",
    "from sklearn.calibration import calibration_curve, CalibratedClassifierCV"
   ]
  },
  {
   "cell_type": "code",
   "execution_count": 6,
   "metadata": {},
   "outputs": [],
   "source": [
    "from sklearn.metrics import roc_auc_score, roc_curve,confusion_matrix"
   ]
  },
  {
   "cell_type": "markdown",
   "metadata": {},
   "source": [
    "# Loading Raw Data"
   ]
  },
  {
   "cell_type": "code",
   "execution_count": 7,
   "metadata": {},
   "outputs": [],
   "source": [
    "raw_data = pd.read_csv('telecomChurn.zip')"
   ]
  },
  {
   "cell_type": "code",
   "execution_count": 36,
   "metadata": {},
   "outputs": [
    {
     "data": {
      "text/html": [
       "<div>\n",
       "<style scoped>\n",
       "    .dataframe tbody tr th:only-of-type {\n",
       "        vertical-align: middle;\n",
       "    }\n",
       "\n",
       "    .dataframe tbody tr th {\n",
       "        vertical-align: top;\n",
       "    }\n",
       "\n",
       "    .dataframe thead th {\n",
       "        text-align: right;\n",
       "    }\n",
       "</style>\n",
       "<table border=\"1\" class=\"dataframe\">\n",
       "  <thead>\n",
       "    <tr style=\"text-align: right;\">\n",
       "      <th></th>\n",
       "      <th>rev_Mean</th>\n",
       "      <th>mou_Mean</th>\n",
       "      <th>totmrc_Mean</th>\n",
       "      <th>da_Mean</th>\n",
       "      <th>ovrmou_Mean</th>\n",
       "      <th>ovrrev_Mean</th>\n",
       "      <th>vceovr_Mean</th>\n",
       "      <th>datovr_Mean</th>\n",
       "      <th>roam_Mean</th>\n",
       "      <th>change_mou</th>\n",
       "      <th>...</th>\n",
       "      <th>forgntvl</th>\n",
       "      <th>ethnic</th>\n",
       "      <th>kid0_2</th>\n",
       "      <th>kid3_5</th>\n",
       "      <th>kid6_10</th>\n",
       "      <th>kid11_15</th>\n",
       "      <th>kid16_17</th>\n",
       "      <th>creditcd</th>\n",
       "      <th>eqpdays</th>\n",
       "      <th>Customer_ID</th>\n",
       "    </tr>\n",
       "  </thead>\n",
       "  <tbody>\n",
       "    <tr>\n",
       "      <th>0</th>\n",
       "      <td>23.9975</td>\n",
       "      <td>219.25</td>\n",
       "      <td>22.500</td>\n",
       "      <td>0.2475</td>\n",
       "      <td>0.00</td>\n",
       "      <td>0.0</td>\n",
       "      <td>0.0</td>\n",
       "      <td>0.0</td>\n",
       "      <td>0.0</td>\n",
       "      <td>-157.25</td>\n",
       "      <td>...</td>\n",
       "      <td>0.0</td>\n",
       "      <td>N</td>\n",
       "      <td>U</td>\n",
       "      <td>U</td>\n",
       "      <td>U</td>\n",
       "      <td>U</td>\n",
       "      <td>U</td>\n",
       "      <td>Y</td>\n",
       "      <td>361.0</td>\n",
       "      <td>1000001</td>\n",
       "    </tr>\n",
       "    <tr>\n",
       "      <th>1</th>\n",
       "      <td>57.4925</td>\n",
       "      <td>482.75</td>\n",
       "      <td>37.425</td>\n",
       "      <td>0.2475</td>\n",
       "      <td>22.75</td>\n",
       "      <td>9.1</td>\n",
       "      <td>9.1</td>\n",
       "      <td>0.0</td>\n",
       "      <td>0.0</td>\n",
       "      <td>532.25</td>\n",
       "      <td>...</td>\n",
       "      <td>0.0</td>\n",
       "      <td>Z</td>\n",
       "      <td>U</td>\n",
       "      <td>U</td>\n",
       "      <td>U</td>\n",
       "      <td>U</td>\n",
       "      <td>U</td>\n",
       "      <td>Y</td>\n",
       "      <td>240.0</td>\n",
       "      <td>1000002</td>\n",
       "    </tr>\n",
       "    <tr>\n",
       "      <th>2</th>\n",
       "      <td>16.9900</td>\n",
       "      <td>10.25</td>\n",
       "      <td>16.990</td>\n",
       "      <td>0.0000</td>\n",
       "      <td>0.00</td>\n",
       "      <td>0.0</td>\n",
       "      <td>0.0</td>\n",
       "      <td>0.0</td>\n",
       "      <td>0.0</td>\n",
       "      <td>-4.25</td>\n",
       "      <td>...</td>\n",
       "      <td>0.0</td>\n",
       "      <td>N</td>\n",
       "      <td>U</td>\n",
       "      <td>Y</td>\n",
       "      <td>U</td>\n",
       "      <td>U</td>\n",
       "      <td>U</td>\n",
       "      <td>Y</td>\n",
       "      <td>1504.0</td>\n",
       "      <td>1000003</td>\n",
       "    </tr>\n",
       "    <tr>\n",
       "      <th>3</th>\n",
       "      <td>38.0000</td>\n",
       "      <td>7.50</td>\n",
       "      <td>38.000</td>\n",
       "      <td>0.0000</td>\n",
       "      <td>0.00</td>\n",
       "      <td>0.0</td>\n",
       "      <td>0.0</td>\n",
       "      <td>0.0</td>\n",
       "      <td>0.0</td>\n",
       "      <td>-1.50</td>\n",
       "      <td>...</td>\n",
       "      <td>0.0</td>\n",
       "      <td>U</td>\n",
       "      <td>Y</td>\n",
       "      <td>U</td>\n",
       "      <td>U</td>\n",
       "      <td>U</td>\n",
       "      <td>U</td>\n",
       "      <td>Y</td>\n",
       "      <td>1812.0</td>\n",
       "      <td>1000004</td>\n",
       "    </tr>\n",
       "    <tr>\n",
       "      <th>4</th>\n",
       "      <td>55.2300</td>\n",
       "      <td>570.50</td>\n",
       "      <td>71.980</td>\n",
       "      <td>0.0000</td>\n",
       "      <td>0.00</td>\n",
       "      <td>0.0</td>\n",
       "      <td>0.0</td>\n",
       "      <td>0.0</td>\n",
       "      <td>0.0</td>\n",
       "      <td>38.50</td>\n",
       "      <td>...</td>\n",
       "      <td>0.0</td>\n",
       "      <td>I</td>\n",
       "      <td>U</td>\n",
       "      <td>U</td>\n",
       "      <td>U</td>\n",
       "      <td>U</td>\n",
       "      <td>U</td>\n",
       "      <td>Y</td>\n",
       "      <td>434.0</td>\n",
       "      <td>1000005</td>\n",
       "    </tr>\n",
       "  </tbody>\n",
       "</table>\n",
       "<p>5 rows × 100 columns</p>\n",
       "</div>"
      ],
      "text/plain": [
       "   rev_Mean  mou_Mean  totmrc_Mean  da_Mean  ovrmou_Mean  ovrrev_Mean  \\\n",
       "0   23.9975    219.25       22.500   0.2475         0.00          0.0   \n",
       "1   57.4925    482.75       37.425   0.2475        22.75          9.1   \n",
       "2   16.9900     10.25       16.990   0.0000         0.00          0.0   \n",
       "3   38.0000      7.50       38.000   0.0000         0.00          0.0   \n",
       "4   55.2300    570.50       71.980   0.0000         0.00          0.0   \n",
       "\n",
       "   vceovr_Mean  datovr_Mean  roam_Mean  change_mou  ...  forgntvl  ethnic  \\\n",
       "0          0.0          0.0        0.0     -157.25  ...       0.0       N   \n",
       "1          9.1          0.0        0.0      532.25  ...       0.0       Z   \n",
       "2          0.0          0.0        0.0       -4.25  ...       0.0       N   \n",
       "3          0.0          0.0        0.0       -1.50  ...       0.0       U   \n",
       "4          0.0          0.0        0.0       38.50  ...       0.0       I   \n",
       "\n",
       "   kid0_2  kid3_5  kid6_10  kid11_15  kid16_17  creditcd  eqpdays  Customer_ID  \n",
       "0       U       U        U         U         U         Y    361.0      1000001  \n",
       "1       U       U        U         U         U         Y    240.0      1000002  \n",
       "2       U       Y        U         U         U         Y   1504.0      1000003  \n",
       "3       Y       U        U         U         U         Y   1812.0      1000004  \n",
       "4       U       U        U         U         U         Y    434.0      1000005  \n",
       "\n",
       "[5 rows x 100 columns]"
      ]
     },
     "execution_count": 36,
     "metadata": {},
     "output_type": "execute_result"
    }
   ],
   "source": [
    "raw_data.head(5)"
   ]
  },
  {
   "cell_type": "markdown",
   "metadata": {},
   "source": [
    "## Handling column descriptions"
   ]
  },
  {
   "cell_type": "markdown",
   "metadata": {},
   "source": [
    "Since there is literally a hundred columns in this dataset, lets take a general look at what kind of data is available. "
   ]
  },
  {
   "cell_type": "code",
   "execution_count": 126,
   "metadata": {},
   "outputs": [],
   "source": [
    "from sklearn.feature_extraction.text import TfidfVectorizer\n",
    "from sklearn.cluster import OPTICS, KMeans"
   ]
  },
  {
   "cell_type": "code",
   "execution_count": 98,
   "metadata": {},
   "outputs": [],
   "source": [
    "col_descriptions = pd.read_json('columnDescriptions.json',orient='index')[0].rename('col_descriptions').to_frame()"
   ]
  },
  {
   "cell_type": "code",
   "execution_count": 99,
   "metadata": {},
   "outputs": [
    {
     "data": {
      "text/html": [
       "<div>\n",
       "<style scoped>\n",
       "    .dataframe tbody tr th:only-of-type {\n",
       "        vertical-align: middle;\n",
       "    }\n",
       "\n",
       "    .dataframe tbody tr th {\n",
       "        vertical-align: top;\n",
       "    }\n",
       "\n",
       "    .dataframe thead th {\n",
       "        text-align: right;\n",
       "    }\n",
       "</style>\n",
       "<table border=\"1\" class=\"dataframe\">\n",
       "  <thead>\n",
       "    <tr style=\"text-align: right;\">\n",
       "      <th></th>\n",
       "      <th>col_descriptions</th>\n",
       "    </tr>\n",
       "  </thead>\n",
       "  <tbody>\n",
       "    <tr>\n",
       "      <th>rev_Mean</th>\n",
       "      <td>Mean monthly revenue (charge amount)</td>\n",
       "    </tr>\n",
       "    <tr>\n",
       "      <th>mou_Mean</th>\n",
       "      <td>Mean number of monthly minutes of use</td>\n",
       "    </tr>\n",
       "    <tr>\n",
       "      <th>totmrc_Mean</th>\n",
       "      <td>Mean total monthly recurring charge</td>\n",
       "    </tr>\n",
       "    <tr>\n",
       "      <th>da_Mean</th>\n",
       "      <td>Mean number of directory assisted calls</td>\n",
       "    </tr>\n",
       "    <tr>\n",
       "      <th>ovrmou_Mean</th>\n",
       "      <td>Mean overage minutes of use</td>\n",
       "    </tr>\n",
       "  </tbody>\n",
       "</table>\n",
       "</div>"
      ],
      "text/plain": [
       "                                    col_descriptions\n",
       "rev_Mean        Mean monthly revenue (charge amount)\n",
       "mou_Mean       Mean number of monthly minutes of use\n",
       "totmrc_Mean      Mean total monthly recurring charge\n",
       "da_Mean      Mean number of directory assisted calls\n",
       "ovrmou_Mean              Mean overage minutes of use"
      ]
     },
     "execution_count": 99,
     "metadata": {},
     "output_type": "execute_result"
    }
   ],
   "source": [
    "col_descriptions.head(5)"
   ]
  },
  {
   "cell_type": "code",
   "execution_count": 153,
   "metadata": {},
   "outputs": [],
   "source": [
    "tfidf = TfidfVectorizer(stop_words='english')"
   ]
  },
  {
   "cell_type": "code",
   "execution_count": 157,
   "metadata": {},
   "outputs": [],
   "source": [
    "X = tfidf.fit_transform(col_descriptions['col_descriptions'])"
   ]
  },
  {
   "cell_type": "code",
   "execution_count": 171,
   "metadata": {},
   "outputs": [
    {
     "data": {
      "text/plain": [
       "array(['10', '11', '15', '16', '17', '31', '60', 'account', 'active',\n",
       "       'adjusted', 'adults', 'age', 'area', 'assisted', 'attempted',\n",
       "       'average', 'billing', 'blocked', 'calls', 'capability', 'card',\n",
       "       'care', 'cell', 'change', 'charge', 'child', 'churn', 'class',\n",
       "       'code', 'completed', 'credit', 'current', 'custcare_mean',\n",
       "       'customer', 'data', 'date', 'days', 'directory', 'dropped',\n",
       "       'dualband', 'dummy', 'dwelling', 'equipment', 'estimated',\n",
       "       'ethnicity', 'failed', 'foreign', 'forwarding', 'geogrpahic',\n",
       "       'group', 'handset', 'handsets', 'home', 'household', 'inbound',\n",
       "       'income', 'indicator', 'infobase', 'instance', 'issued', 'known',\n",
       "       'length', 'letter', 'life', 'limit', 'marital', 'match', 'mean',\n",
       "       'minute', 'minutes', 'models', 'month', 'monthly', 'months', 'new',\n",
       "       'number', 'observation', 'outbound', 'overage', 'owner', 'peak',\n",
       "       'percentage', 'phone', 'placed', 'premier', 'previous', 'price',\n",
       "       'received', 'recurring', 'refurbished', 'renter', 'residence',\n",
       "       'revenue', 'roaming', 'roll', 'rounded', 'rv', 'service', 'size',\n",
       "       'social', 'spending', 'status', 'subscribers', 'total', 'travel',\n",
       "       'truck', 'type', 'unanswered', 'unique', 'unit', 'unrounded',\n",
       "       'use', 'user', 'variable', 'vehicles', 'voice', 'vs', 'waiting',\n",
       "       'way', 'web', 'wireless', 'years'], dtype=object)"
      ]
     },
     "execution_count": 171,
     "metadata": {},
     "output_type": "execute_result"
    }
   ],
   "source": [
    "tfidf.get_feature_names_out()"
   ]
  },
  {
   "cell_type": "markdown",
   "metadata": {},
   "source": [
    "### Optics grouping"
   ]
  },
  {
   "cell_type": "code",
   "execution_count": 199,
   "metadata": {},
   "outputs": [
    {
     "name": "stderr",
     "output_type": "stream",
     "text": [
      "C:\\Users\\j3ff1\\.conda\\envs\\xgboost\\lib\\site-packages\\sklearn\\cluster\\_optics.py:903: RuntimeWarning: divide by zero encountered in true_divide\n",
      "  ratio = reachability_plot[:-1] / reachability_plot[1:]\n"
     ]
    }
   ],
   "source": [
    "optics = OPTICS(min_samples=3)\n",
    "col_descriptions['optics_class'] = optics.fit_predict(X.toarray())"
   ]
  },
  {
   "cell_type": "code",
   "execution_count": 200,
   "metadata": {},
   "outputs": [
    {
     "data": {
      "text/plain": [
       "-1     50\n",
       " 6      6\n",
       " 3      6\n",
       " 11     5\n",
       " 5      5\n",
       " 2      5\n",
       " 0      5\n",
       " 1      3\n",
       " 10     3\n",
       " 9      3\n",
       " 8      3\n",
       " 7      3\n",
       " 4      3\n",
       "Name: optics_class, dtype: int64"
      ]
     },
     "execution_count": 200,
     "metadata": {},
     "output_type": "execute_result"
    }
   ],
   "source": [
    "col_descriptions.optics_class.value_counts()"
   ]
  },
  {
   "cell_type": "code",
   "execution_count": 201,
   "metadata": {},
   "outputs": [],
   "source": [
    "ls = []\n",
    "for group in col_descriptions['optics_class'].unique():\n",
    "    ls.append(col_descriptions[col_descriptions['optics_class']==group]['col_descriptions'].to_numpy())"
   ]
  },
  {
   "cell_type": "code",
   "execution_count": 204,
   "metadata": {},
   "outputs": [
    {
     "data": {
      "text/plain": [
       "[array(['Mean monthly revenue (charge amount)',\n",
       "        'Mean total monthly recurring charge', ' N', ' N', 'N'],\n",
       "       dtype=object),\n",
       " array(['Mean number of monthly minutes of use',\n",
       "        'Mean number of directory assisted calls',\n",
       "        'Mean overage minutes of use', 'Mean number of roaming calls',\n",
       "        'Percentage change in monthly minutes of use vs previous three month average',\n",
       "        ' Percentage change in monthly revenue vs previous three month average',\n",
       "        'Mean number of unanswered voice calls',\n",
       "        'Mean number of unanswered data calls',\n",
       "        'Mean number of received voice calls',\n",
       "        'Mean number of inbound calls less than one minute',\n",
       "        'Mean number of three way calls ',\n",
       "        'Mean unrounded minutes of use of received voice calls ',\n",
       "        'Mean number of inbound and outbound peak voice calls',\n",
       "        'Mean number of peak data calls',\n",
       "        'Mean number of off-peak voice calls',\n",
       "        'Mean number of off-peak data calls',\n",
       "        ' Mean number of call forwarding calls ',\n",
       "        'Mean number of call waiting calls',\n",
       "        'Instance of churn between 31-60 days after observation date',\n",
       "        'Total number of months in service',\n",
       "        'Number of unique subscribers in the household',\n",
       "        ' Number of active subscribers in household',\n",
       "        'New cell phone user', ' Credit class code',\n",
       "        ' Account spending limit', 'Total revenue',\n",
       "        ' Social group letter only', 'Geogrpahic area ', 'Dualband',\n",
       "        'Handset: refurbished or new', 'Current handset price',\n",
       "        ' Number of handsets issued', 'Number of models issued',\n",
       "        'Handset web capability', 'Truck indicator ', 'RV indicator',\n",
       "        'Home owner/renter status', 'Length of residence',\n",
       "        ' Dwelling Unit type', 'Marital Status ',\n",
       "        'Number of adults in household', 'InfoBase match',\n",
       "        'Estimated income', 'Known number of vehicles',\n",
       "        'Premier household status indicator', 'Dwelling size ',\n",
       "        'Foreign travel dummy variable', 'Ethnicity roll-up code',\n",
       "        'Credit card indicator',\n",
       "        'Number of days (age) of current equipment'], dtype=object),\n",
       " array(['Mean overage revenue', 'Mean revenue of voice overage ',\n",
       "        ' Mean revenue of data overage'], dtype=object),\n",
       " array([' Mean number of dropped (failed) voice calls',\n",
       "        'Mean number of dropped (failed) data calls',\n",
       "        'Mean number of blocked (failed) voice calls',\n",
       "        'Mean number of blocked (failed) data calls',\n",
       "        'Mean number of dropped or blocked calls'], dtype=object),\n",
       " array(['Mean number of attempted voice calls placed',\n",
       "        'Mean number of attempted data calls placed',\n",
       "        'Mean number of attempted calls '], dtype=object),\n",
       " array(['Mean number of completed voice calls',\n",
       "        'Mean number of completed data calls ',\n",
       "        'Mean number of completed calls'], dtype=object),\n",
       " array(['Mean number of customer care calls',\n",
       "        'Mean rounded minutes of use of customer care calls',\n",
       "        'Mean unrounded minutes of use of customer care (see CUSTCARE_MEAN) calls'],\n",
       "       dtype=object),\n",
       " array(['Mean unrounded minutes of use of completed voice calls',\n",
       "        'Mean unrounded minutes of use of completed data calls',\n",
       "        'Mean unrounded minutes of use of peak voice calls',\n",
       "        'Mean unrounded minutes of use of peak data calls',\n",
       "        'Mean unrounded minutes of use of off-peak voice calls',\n",
       "        'Mean unrounded minutes of use of off-peak data calls'],\n",
       "       dtype=object),\n",
       " array(['Mean number of outbound wireless to wireless voice calls ',\n",
       "        'Mean unrounded minutes of use of outbound wireless to wireless voice calls',\n",
       "        'Mean unrounded minutes of use of inbound wireless to wireless voice calls'],\n",
       "       dtype=object),\n",
       " array(['Total number of calls over the life of the customer',\n",
       "        'Total minutes of use over the life of the customer',\n",
       "        'Billing adjusted total revenue over the life of the customer',\n",
       "        'Billing adjusted total minutes of use over the life of the customer',\n",
       "        'Billing adjusted total number of calls over the life of the customer '],\n",
       "       dtype=object),\n",
       " array(['Average monthly revenue over the life of the customer',\n",
       "        'Average monthly minutes of use over the life of the customer',\n",
       "        'Average monthly number of calls over the life of the customer'],\n",
       "       dtype=object),\n",
       " array(['Average monthly minutes of use over the previous three months',\n",
       "        'Average monthly number of calls over the previous three months ',\n",
       "        'Average monthly revenue over the previous three months',\n",
       "        'Average monthly minutes of use over the previous six months',\n",
       "        'Average monthly number of calls over the previous six months',\n",
       "        'Average monthly revenue over the previous six months '],\n",
       "       dtype=object),\n",
       " array(['Child 0 - 2 years of age in household',\n",
       "        'Child 3 - 5 years of age in household ',\n",
       "        'Child 6 - 10 years of age in household',\n",
       "        'Child 11 - 15 years of age in household',\n",
       "        'Child 16 - 17 years of age in household'], dtype=object)]"
      ]
     },
     "execution_count": 204,
     "metadata": {},
     "output_type": "execute_result"
    }
   ],
   "source": [
    "ls"
   ]
  },
  {
   "cell_type": "markdown",
   "metadata": {},
   "source": [
    "### kmeans grouping"
   ]
  },
  {
   "cell_type": "code",
   "execution_count": 172,
   "metadata": {},
   "outputs": [],
   "source": [
    "kmeans = KMeans(n_clusters=10)\n",
    "col_descriptions['kmeans_class'] = kmeans.fit_predict(X.toarray())"
   ]
  },
  {
   "cell_type": "code",
   "execution_count": 173,
   "metadata": {},
   "outputs": [
    {
     "data": {
      "text/plain": [
       "4    48\n",
       "0    11\n",
       "1    10\n",
       "3     8\n",
       "9     6\n",
       "8     5\n",
       "5     5\n",
       "6     3\n",
       "7     2\n",
       "2     2\n",
       "Name: kmeans_class, dtype: int64"
      ]
     },
     "execution_count": 173,
     "metadata": {},
     "output_type": "execute_result"
    }
   ],
   "source": [
    "col_descriptions['kmeans_class'].value_counts()"
   ]
  },
  {
   "cell_type": "code",
   "execution_count": 174,
   "metadata": {},
   "outputs": [],
   "source": [
    "ls = []\n",
    "for group in col_descriptions['kmeans_class'].unique():\n",
    "    ls.append(col_descriptions[col_descriptions['kmeans_class']==group]['col_descriptions'].to_numpy())"
   ]
  },
  {
   "cell_type": "code",
   "execution_count": 211,
   "metadata": {},
   "outputs": [
    {
     "data": {
      "text/plain": [
       "array(['Mean number of monthly minutes of use',\n",
       "       'Mean overage minutes of use',\n",
       "       'Mean rounded minutes of use of customer care calls',\n",
       "       'Mean unrounded minutes of use of customer care (see CUSTCARE_MEAN) calls',\n",
       "       'Mean unrounded minutes of use of completed voice calls',\n",
       "       'Mean unrounded minutes of use of completed data calls',\n",
       "       'Mean unrounded minutes of use of received voice calls ',\n",
       "       'Mean unrounded minutes of use of peak voice calls',\n",
       "       'Mean unrounded minutes of use of peak data calls',\n",
       "       'Mean unrounded minutes of use of off-peak voice calls',\n",
       "       'Mean unrounded minutes of use of off-peak data calls'],\n",
       "      dtype=object)"
      ]
     },
     "execution_count": 211,
     "metadata": {},
     "output_type": "execute_result"
    }
   ],
   "source": [
    "col_descriptions[col_descriptions['kmeans_class']==0]['col_descriptions'].to_numpy()"
   ]
  }
 ],
 "metadata": {
  "kernelspec": {
   "display_name": "Python 3",
   "language": "python",
   "name": "python3"
  },
  "language_info": {
   "codemirror_mode": {
    "name": "ipython",
    "version": 3
   },
   "file_extension": ".py",
   "mimetype": "text/x-python",
   "name": "python",
   "nbconvert_exporter": "python",
   "pygments_lexer": "ipython3",
   "version": "3.8.5"
  }
 },
 "nbformat": 4,
 "nbformat_minor": 4
}
