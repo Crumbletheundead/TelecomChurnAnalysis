{
 "cells": [
  {
   "cell_type": "code",
   "execution_count": 33,
   "metadata": {},
   "outputs": [],
   "source": [
    "import pandas as pd\n",
    "import numpy as np\n",
    "import seaborn as sns\n",
    "import tqdm \n",
    "import matplotlib.pyplot as plt\n",
    "import math\n",
    "import scipy\n",
    "import re"
   ]
  },
  {
   "cell_type": "code",
   "execution_count": 2,
   "metadata": {},
   "outputs": [],
   "source": [
    "import xgboost as xgb\n",
    "import lightgbm as lgb\n",
    "import catboost as cat"
   ]
  },
  {
   "cell_type": "code",
   "execution_count": 3,
   "metadata": {},
   "outputs": [],
   "source": [
    "from sklearn.model_selection import train_test_split, StratifiedKFold\n",
    "from sklearn.compose import make_column_transformer\n",
    "from sklearn.preprocessing import FunctionTransformer, OneHotEncoder,OrdinalEncoder, MinMaxScaler\n",
    "from sklearn.pipeline import Pipeline\n",
    "from sklearn.model_selection import GridSearchCV\n",
    "from sklearn.calibration import calibration_curve, CalibratedClassifierCV"
   ]
  },
  {
   "cell_type": "code",
   "execution_count": 4,
   "metadata": {},
   "outputs": [],
   "source": [
    "from sklearn.metrics import roc_auc_score, roc_curve,confusion_matrix"
   ]
  },
  {
   "cell_type": "markdown",
   "metadata": {},
   "source": [
    "# Loading Raw Data"
   ]
  },
  {
   "cell_type": "code",
   "execution_count": 5,
   "metadata": {},
   "outputs": [],
   "source": [
    "raw_data = pd.read_csv('telecomChurn.zip')"
   ]
  },
  {
   "cell_type": "code",
   "execution_count": 6,
   "metadata": {},
   "outputs": [
    {
     "data": {
      "text/html": [
       "<div>\n",
       "<style scoped>\n",
       "    .dataframe tbody tr th:only-of-type {\n",
       "        vertical-align: middle;\n",
       "    }\n",
       "\n",
       "    .dataframe tbody tr th {\n",
       "        vertical-align: top;\n",
       "    }\n",
       "\n",
       "    .dataframe thead th {\n",
       "        text-align: right;\n",
       "    }\n",
       "</style>\n",
       "<table border=\"1\" class=\"dataframe\">\n",
       "  <thead>\n",
       "    <tr style=\"text-align: right;\">\n",
       "      <th></th>\n",
       "      <th>rev_Mean</th>\n",
       "      <th>mou_Mean</th>\n",
       "      <th>totmrc_Mean</th>\n",
       "      <th>da_Mean</th>\n",
       "      <th>ovrmou_Mean</th>\n",
       "      <th>ovrrev_Mean</th>\n",
       "      <th>vceovr_Mean</th>\n",
       "      <th>datovr_Mean</th>\n",
       "      <th>roam_Mean</th>\n",
       "      <th>change_mou</th>\n",
       "      <th>...</th>\n",
       "      <th>forgntvl</th>\n",
       "      <th>ethnic</th>\n",
       "      <th>kid0_2</th>\n",
       "      <th>kid3_5</th>\n",
       "      <th>kid6_10</th>\n",
       "      <th>kid11_15</th>\n",
       "      <th>kid16_17</th>\n",
       "      <th>creditcd</th>\n",
       "      <th>eqpdays</th>\n",
       "      <th>Customer_ID</th>\n",
       "    </tr>\n",
       "  </thead>\n",
       "  <tbody>\n",
       "    <tr>\n",
       "      <th>0</th>\n",
       "      <td>23.9975</td>\n",
       "      <td>219.25</td>\n",
       "      <td>22.500</td>\n",
       "      <td>0.2475</td>\n",
       "      <td>0.00</td>\n",
       "      <td>0.0</td>\n",
       "      <td>0.0</td>\n",
       "      <td>0.0</td>\n",
       "      <td>0.0</td>\n",
       "      <td>-157.25</td>\n",
       "      <td>...</td>\n",
       "      <td>0.0</td>\n",
       "      <td>N</td>\n",
       "      <td>U</td>\n",
       "      <td>U</td>\n",
       "      <td>U</td>\n",
       "      <td>U</td>\n",
       "      <td>U</td>\n",
       "      <td>Y</td>\n",
       "      <td>361.0</td>\n",
       "      <td>1000001</td>\n",
       "    </tr>\n",
       "    <tr>\n",
       "      <th>1</th>\n",
       "      <td>57.4925</td>\n",
       "      <td>482.75</td>\n",
       "      <td>37.425</td>\n",
       "      <td>0.2475</td>\n",
       "      <td>22.75</td>\n",
       "      <td>9.1</td>\n",
       "      <td>9.1</td>\n",
       "      <td>0.0</td>\n",
       "      <td>0.0</td>\n",
       "      <td>532.25</td>\n",
       "      <td>...</td>\n",
       "      <td>0.0</td>\n",
       "      <td>Z</td>\n",
       "      <td>U</td>\n",
       "      <td>U</td>\n",
       "      <td>U</td>\n",
       "      <td>U</td>\n",
       "      <td>U</td>\n",
       "      <td>Y</td>\n",
       "      <td>240.0</td>\n",
       "      <td>1000002</td>\n",
       "    </tr>\n",
       "    <tr>\n",
       "      <th>2</th>\n",
       "      <td>16.9900</td>\n",
       "      <td>10.25</td>\n",
       "      <td>16.990</td>\n",
       "      <td>0.0000</td>\n",
       "      <td>0.00</td>\n",
       "      <td>0.0</td>\n",
       "      <td>0.0</td>\n",
       "      <td>0.0</td>\n",
       "      <td>0.0</td>\n",
       "      <td>-4.25</td>\n",
       "      <td>...</td>\n",
       "      <td>0.0</td>\n",
       "      <td>N</td>\n",
       "      <td>U</td>\n",
       "      <td>Y</td>\n",
       "      <td>U</td>\n",
       "      <td>U</td>\n",
       "      <td>U</td>\n",
       "      <td>Y</td>\n",
       "      <td>1504.0</td>\n",
       "      <td>1000003</td>\n",
       "    </tr>\n",
       "    <tr>\n",
       "      <th>3</th>\n",
       "      <td>38.0000</td>\n",
       "      <td>7.50</td>\n",
       "      <td>38.000</td>\n",
       "      <td>0.0000</td>\n",
       "      <td>0.00</td>\n",
       "      <td>0.0</td>\n",
       "      <td>0.0</td>\n",
       "      <td>0.0</td>\n",
       "      <td>0.0</td>\n",
       "      <td>-1.50</td>\n",
       "      <td>...</td>\n",
       "      <td>0.0</td>\n",
       "      <td>U</td>\n",
       "      <td>Y</td>\n",
       "      <td>U</td>\n",
       "      <td>U</td>\n",
       "      <td>U</td>\n",
       "      <td>U</td>\n",
       "      <td>Y</td>\n",
       "      <td>1812.0</td>\n",
       "      <td>1000004</td>\n",
       "    </tr>\n",
       "    <tr>\n",
       "      <th>4</th>\n",
       "      <td>55.2300</td>\n",
       "      <td>570.50</td>\n",
       "      <td>71.980</td>\n",
       "      <td>0.0000</td>\n",
       "      <td>0.00</td>\n",
       "      <td>0.0</td>\n",
       "      <td>0.0</td>\n",
       "      <td>0.0</td>\n",
       "      <td>0.0</td>\n",
       "      <td>38.50</td>\n",
       "      <td>...</td>\n",
       "      <td>0.0</td>\n",
       "      <td>I</td>\n",
       "      <td>U</td>\n",
       "      <td>U</td>\n",
       "      <td>U</td>\n",
       "      <td>U</td>\n",
       "      <td>U</td>\n",
       "      <td>Y</td>\n",
       "      <td>434.0</td>\n",
       "      <td>1000005</td>\n",
       "    </tr>\n",
       "  </tbody>\n",
       "</table>\n",
       "<p>5 rows × 100 columns</p>\n",
       "</div>"
      ],
      "text/plain": [
       "   rev_Mean  mou_Mean  totmrc_Mean  da_Mean  ovrmou_Mean  ovrrev_Mean  \\\n",
       "0   23.9975    219.25       22.500   0.2475         0.00          0.0   \n",
       "1   57.4925    482.75       37.425   0.2475        22.75          9.1   \n",
       "2   16.9900     10.25       16.990   0.0000         0.00          0.0   \n",
       "3   38.0000      7.50       38.000   0.0000         0.00          0.0   \n",
       "4   55.2300    570.50       71.980   0.0000         0.00          0.0   \n",
       "\n",
       "   vceovr_Mean  datovr_Mean  roam_Mean  change_mou  ...  forgntvl  ethnic  \\\n",
       "0          0.0          0.0        0.0     -157.25  ...       0.0       N   \n",
       "1          9.1          0.0        0.0      532.25  ...       0.0       Z   \n",
       "2          0.0          0.0        0.0       -4.25  ...       0.0       N   \n",
       "3          0.0          0.0        0.0       -1.50  ...       0.0       U   \n",
       "4          0.0          0.0        0.0       38.50  ...       0.0       I   \n",
       "\n",
       "   kid0_2  kid3_5  kid6_10  kid11_15  kid16_17  creditcd  eqpdays  Customer_ID  \n",
       "0       U       U        U         U         U         Y    361.0      1000001  \n",
       "1       U       U        U         U         U         Y    240.0      1000002  \n",
       "2       U       Y        U         U         U         Y   1504.0      1000003  \n",
       "3       Y       U        U         U         U         Y   1812.0      1000004  \n",
       "4       U       U        U         U         U         Y    434.0      1000005  \n",
       "\n",
       "[5 rows x 100 columns]"
      ]
     },
     "execution_count": 6,
     "metadata": {},
     "output_type": "execute_result"
    }
   ],
   "source": [
    "raw_data.head(5)"
   ]
  },
  {
   "cell_type": "markdown",
   "metadata": {},
   "source": [
    "## Handling column descriptions"
   ]
  },
  {
   "cell_type": "markdown",
   "metadata": {},
   "source": [
    "Since there is literally a hundred columns in this dataset, lets take a general look at what kind of data is available. "
   ]
  },
  {
   "cell_type": "code",
   "execution_count": 7,
   "metadata": {},
   "outputs": [],
   "source": [
    "from sklearn.feature_extraction.text import TfidfVectorizer\n",
    "from sklearn.cluster import OPTICS, KMeans\n",
    "from sklearn.feature_extraction.text import CountVectorizer\n",
    "import gensim"
   ]
  },
  {
   "cell_type": "code",
   "execution_count": 73,
   "metadata": {},
   "outputs": [],
   "source": [
    "col_descriptions = pd.read_json('columnDescriptions.json',orient='index')[0].rename('col_descriptions').to_frame()"
   ]
  },
  {
   "cell_type": "code",
   "execution_count": 74,
   "metadata": {},
   "outputs": [
    {
     "data": {
      "text/html": [
       "<div>\n",
       "<style scoped>\n",
       "    .dataframe tbody tr th:only-of-type {\n",
       "        vertical-align: middle;\n",
       "    }\n",
       "\n",
       "    .dataframe tbody tr th {\n",
       "        vertical-align: top;\n",
       "    }\n",
       "\n",
       "    .dataframe thead th {\n",
       "        text-align: right;\n",
       "    }\n",
       "</style>\n",
       "<table border=\"1\" class=\"dataframe\">\n",
       "  <thead>\n",
       "    <tr style=\"text-align: right;\">\n",
       "      <th></th>\n",
       "      <th>col_descriptions</th>\n",
       "    </tr>\n",
       "  </thead>\n",
       "  <tbody>\n",
       "    <tr>\n",
       "      <th>rev_Mean</th>\n",
       "      <td>Mean monthly revenue (charge amount)</td>\n",
       "    </tr>\n",
       "    <tr>\n",
       "      <th>mou_Mean</th>\n",
       "      <td>Mean number of monthly minutes of use</td>\n",
       "    </tr>\n",
       "    <tr>\n",
       "      <th>totmrc_Mean</th>\n",
       "      <td>Mean total monthly recurring charge</td>\n",
       "    </tr>\n",
       "    <tr>\n",
       "      <th>da_Mean</th>\n",
       "      <td>Mean number of directory assisted calls</td>\n",
       "    </tr>\n",
       "    <tr>\n",
       "      <th>ovrmou_Mean</th>\n",
       "      <td>Mean overage minutes of use</td>\n",
       "    </tr>\n",
       "  </tbody>\n",
       "</table>\n",
       "</div>"
      ],
      "text/plain": [
       "                                    col_descriptions\n",
       "rev_Mean        Mean monthly revenue (charge amount)\n",
       "mou_Mean       Mean number of monthly minutes of use\n",
       "totmrc_Mean      Mean total monthly recurring charge\n",
       "da_Mean      Mean number of directory assisted calls\n",
       "ovrmou_Mean              Mean overage minutes of use"
      ]
     },
     "execution_count": 74,
     "metadata": {},
     "output_type": "execute_result"
    }
   ],
   "source": [
    "col_descriptions.head(5)"
   ]
  },
  {
   "cell_type": "code",
   "execution_count": 75,
   "metadata": {},
   "outputs": [],
   "source": [
    "col_descriptions['clean_desc'] = (\n",
    "    col_descriptions['col_descriptions']\n",
    "    .apply(gensim.parsing.preprocessing.remove_stopwords)\n",
    ")"
   ]
  },
  {
   "cell_type": "code",
   "execution_count": 76,
   "metadata": {},
   "outputs": [
    {
     "data": {
      "text/html": [
       "<div>\n",
       "<style scoped>\n",
       "    .dataframe tbody tr th:only-of-type {\n",
       "        vertical-align: middle;\n",
       "    }\n",
       "\n",
       "    .dataframe tbody tr th {\n",
       "        vertical-align: top;\n",
       "    }\n",
       "\n",
       "    .dataframe thead th {\n",
       "        text-align: right;\n",
       "    }\n",
       "</style>\n",
       "<table border=\"1\" class=\"dataframe\">\n",
       "  <thead>\n",
       "    <tr style=\"text-align: right;\">\n",
       "      <th></th>\n",
       "      <th>col_descriptions</th>\n",
       "      <th>clean_desc</th>\n",
       "    </tr>\n",
       "  </thead>\n",
       "  <tbody>\n",
       "    <tr>\n",
       "      <th>rev_Mean</th>\n",
       "      <td>Mean monthly revenue (charge amount)</td>\n",
       "      <td>Mean monthly revenue (charge amount)</td>\n",
       "    </tr>\n",
       "    <tr>\n",
       "      <th>mou_Mean</th>\n",
       "      <td>Mean number of monthly minutes of use</td>\n",
       "      <td>Mean number monthly minutes use</td>\n",
       "    </tr>\n",
       "    <tr>\n",
       "      <th>totmrc_Mean</th>\n",
       "      <td>Mean total monthly recurring charge</td>\n",
       "      <td>Mean total monthly recurring charge</td>\n",
       "    </tr>\n",
       "    <tr>\n",
       "      <th>da_Mean</th>\n",
       "      <td>Mean number of directory assisted calls</td>\n",
       "      <td>Mean number directory assisted calls</td>\n",
       "    </tr>\n",
       "    <tr>\n",
       "      <th>ovrmou_Mean</th>\n",
       "      <td>Mean overage minutes of use</td>\n",
       "      <td>Mean overage minutes use</td>\n",
       "    </tr>\n",
       "    <tr>\n",
       "      <th>...</th>\n",
       "      <td>...</td>\n",
       "      <td>...</td>\n",
       "    </tr>\n",
       "    <tr>\n",
       "      <th>kid11_15</th>\n",
       "      <td>Child 11 - 15 years of age in household</td>\n",
       "      <td>Child 11 - 15 years age household</td>\n",
       "    </tr>\n",
       "    <tr>\n",
       "      <th>kid16_17</th>\n",
       "      <td>Child 16 - 17 years of age in household</td>\n",
       "      <td>Child 16 - 17 years age household</td>\n",
       "    </tr>\n",
       "    <tr>\n",
       "      <th>creditcd</th>\n",
       "      <td>Credit card indicator</td>\n",
       "      <td>Credit card indicator</td>\n",
       "    </tr>\n",
       "    <tr>\n",
       "      <th>eqpdays</th>\n",
       "      <td>Number of days (age) of current equipment</td>\n",
       "      <td>Number days (age) current equipment</td>\n",
       "    </tr>\n",
       "    <tr>\n",
       "      <th>Customer_ID</th>\n",
       "      <td>N</td>\n",
       "      <td>N</td>\n",
       "    </tr>\n",
       "  </tbody>\n",
       "</table>\n",
       "<p>100 rows × 2 columns</p>\n",
       "</div>"
      ],
      "text/plain": [
       "                                      col_descriptions  \\\n",
       "rev_Mean          Mean monthly revenue (charge amount)   \n",
       "mou_Mean         Mean number of monthly minutes of use   \n",
       "totmrc_Mean        Mean total monthly recurring charge   \n",
       "da_Mean        Mean number of directory assisted calls   \n",
       "ovrmou_Mean                Mean overage minutes of use   \n",
       "...                                                ...   \n",
       "kid11_15       Child 11 - 15 years of age in household   \n",
       "kid16_17       Child 16 - 17 years of age in household   \n",
       "creditcd                         Credit card indicator   \n",
       "eqpdays      Number of days (age) of current equipment   \n",
       "Customer_ID                                          N   \n",
       "\n",
       "                                       clean_desc  \n",
       "rev_Mean     Mean monthly revenue (charge amount)  \n",
       "mou_Mean          Mean number monthly minutes use  \n",
       "totmrc_Mean   Mean total monthly recurring charge  \n",
       "da_Mean      Mean number directory assisted calls  \n",
       "ovrmou_Mean              Mean overage minutes use  \n",
       "...                                           ...  \n",
       "kid11_15        Child 11 - 15 years age household  \n",
       "kid16_17        Child 16 - 17 years age household  \n",
       "creditcd                    Credit card indicator  \n",
       "eqpdays       Number days (age) current equipment  \n",
       "Customer_ID                                     N  \n",
       "\n",
       "[100 rows x 2 columns]"
      ]
     },
     "execution_count": 76,
     "metadata": {},
     "output_type": "execute_result"
    }
   ],
   "source": [
    "col_descriptions"
   ]
  },
  {
   "cell_type": "markdown",
   "metadata": {},
   "source": [
    "### Bag of words"
   ]
  },
  {
   "cell_type": "code",
   "execution_count": 12,
   "metadata": {},
   "outputs": [],
   "source": [
    "tokenizedDesc = col_descriptions['clean_desc'].apply(lambda x: x.split()).to_list()\n",
    "dictionary = gensim.corpora.Dictionary(tokenizedDesc)\n",
    "corpus = [dictionary.doc2bow(text) for text in tokenizedDesc]"
   ]
  },
  {
   "cell_type": "markdown",
   "metadata": {},
   "source": [
    "### Tfidf"
   ]
  },
  {
   "cell_type": "code",
   "execution_count": 13,
   "metadata": {},
   "outputs": [],
   "source": [
    "tfidf = TfidfVectorizer()\n",
    "tfidfMatrix = tfidf.fit_transform(col_descriptions['clean_desc'])"
   ]
  },
  {
   "cell_type": "code",
   "execution_count": 14,
   "metadata": {},
   "outputs": [
    {
     "data": {
      "text/plain": [
       "array(['10', '11', '15', '16', '17', '31', '60', 'account', 'active',\n",
       "       'adjusted', 'adults', 'age', 'amount', 'area', 'assisted',\n",
       "       'attempted', 'average', 'billing', 'blocked', 'calls',\n",
       "       'capability', 'card', 'care', 'cell', 'change', 'charge', 'child',\n",
       "       'churn', 'class', 'code', 'completed', 'credit', 'current',\n",
       "       'custcare_mean', 'customer', 'data', 'date', 'days', 'directory',\n",
       "       'dropped', 'dualband', 'dummy', 'dwelling', 'equipment',\n",
       "       'estimated', 'ethnicity', 'failed', 'foreign', 'forwarding',\n",
       "       'geogrpahic', 'group', 'handset', 'handsets', 'home', 'household',\n",
       "       'inbound', 'income', 'indicator', 'infobase', 'instance', 'issued',\n",
       "       'known', 'length', 'letter', 'life', 'limit', 'marital', 'match',\n",
       "       'mean', 'minute', 'minutes', 'models', 'month', 'monthly',\n",
       "       'months', 'new', 'number', 'observation', 'off', 'outbound',\n",
       "       'overage', 'owner', 'peak', 'percentage', 'phone', 'placed',\n",
       "       'premier', 'previous', 'price', 'received', 'recurring',\n",
       "       'refurbished', 'renter', 'residence', 'revenue', 'roaming', 'roll',\n",
       "       'rounded', 'rv', 'see', 'service', 'size', 'social', 'spending',\n",
       "       'status', 'subscribers', 'total', 'travel', 'truck', 'type',\n",
       "       'unanswered', 'unique', 'unit', 'unrounded', 'up', 'use', 'user',\n",
       "       'variable', 'vehicles', 'voice', 'vs', 'waiting', 'way', 'web',\n",
       "       'wireless', 'years'], dtype=object)"
      ]
     },
     "execution_count": 14,
     "metadata": {},
     "output_type": "execute_result"
    }
   ],
   "source": [
    "tfidf.get_feature_names_out()"
   ]
  },
  {
   "cell_type": "markdown",
   "metadata": {},
   "source": [
    "### Optics grouping"
   ]
  },
  {
   "cell_type": "code",
   "execution_count": 65,
   "metadata": {},
   "outputs": [],
   "source": [
    "optics = OPTICS(min_samples=4)\n",
    "col_descriptions['optics_class'] = optics.fit_predict(tfidfMatrix.toarray())"
   ]
  },
  {
   "cell_type": "code",
   "execution_count": 66,
   "metadata": {},
   "outputs": [
    {
     "data": {
      "text/plain": [
       "-1    60\n",
       " 3    14\n",
       " 0     8\n",
       " 1     8\n",
       " 4     5\n",
       " 2     5\n",
       "Name: optics_class, dtype: int64"
      ]
     },
     "execution_count": 66,
     "metadata": {},
     "output_type": "execute_result"
    }
   ],
   "source": [
    "col_descriptions.optics_class.value_counts()"
   ]
  },
  {
   "cell_type": "code",
   "execution_count": null,
   "metadata": {},
   "outputs": [],
   "source": [
    "for groupId in np.unique(optics.labels_):\n",
    "    gensim.models.ldamodel.LdaModel(\n",
    "        (pd.Series(corpus)[col_descriptions['optics_class'].reset_index(drop=True)==0]).to_list(),\n",
    "        num_topics = 3, id2word=dictionary, passes=12\n",
    "    )"
   ]
  },
  {
   "cell_type": "code",
   "execution_count": 70,
   "metadata": {},
   "outputs": [],
   "source": [
    "lda = gensim.models.ldamodel.LdaModel(\n",
    "    (pd.Series(corpus)[col_descriptions['optics_class'].reset_index(drop=True)==0]).to_list(),\n",
    "    num_topics = 1, id2word=dictionary, passes=12)"
   ]
  },
  {
   "cell_type": "code",
   "execution_count": 71,
   "metadata": {},
   "outputs": [
    {
     "data": {
      "text/plain": [
       "['\"custom\"',\n",
       " '\"life\"',\n",
       " '\"total\"',\n",
       " '\"number\"',\n",
       " '\"call\"',\n",
       " '\"bill\"',\n",
       " '\"monthli\"',\n",
       " '\"adjust\"',\n",
       " '\"us\"',\n",
       " '\"averag\"']"
      ]
     },
     "execution_count": 71,
     "metadata": {},
     "output_type": "execute_result"
    }
   ],
   "source": [
    "re.findall(\"(\\\".+?\\\")\",lda.print_topics()[0][1])"
   ]
  },
  {
   "cell_type": "code",
   "execution_count": 72,
   "metadata": {},
   "outputs": [
    {
     "data": {
      "text/html": [
       "<div>\n",
       "<style scoped>\n",
       "    .dataframe tbody tr th:only-of-type {\n",
       "        vertical-align: middle;\n",
       "    }\n",
       "\n",
       "    .dataframe tbody tr th {\n",
       "        vertical-align: top;\n",
       "    }\n",
       "\n",
       "    .dataframe thead th {\n",
       "        text-align: right;\n",
       "    }\n",
       "</style>\n",
       "<table border=\"1\" class=\"dataframe\">\n",
       "  <thead>\n",
       "    <tr style=\"text-align: right;\">\n",
       "      <th></th>\n",
       "      <th>col_descriptions</th>\n",
       "      <th>clean_desc</th>\n",
       "      <th>optics_class</th>\n",
       "      <th>clean_desc_stem</th>\n",
       "    </tr>\n",
       "  </thead>\n",
       "  <tbody>\n",
       "    <tr>\n",
       "      <th>totcalls</th>\n",
       "      <td>Total number of calls over the life of the cus...</td>\n",
       "      <td>Total number calls life customer</td>\n",
       "      <td>0</td>\n",
       "      <td>total number call life custom</td>\n",
       "    </tr>\n",
       "    <tr>\n",
       "      <th>totmou</th>\n",
       "      <td>Total minutes of use over the life of the cust...</td>\n",
       "      <td>Total minutes use life customer</td>\n",
       "      <td>0</td>\n",
       "      <td>total minut us life custom</td>\n",
       "    </tr>\n",
       "    <tr>\n",
       "      <th>adjrev</th>\n",
       "      <td>Billing adjusted total revenue over the life o...</td>\n",
       "      <td>Billing adjusted total revenue life customer</td>\n",
       "      <td>0</td>\n",
       "      <td>bill adjust total revenu life custom</td>\n",
       "    </tr>\n",
       "    <tr>\n",
       "      <th>adjmou</th>\n",
       "      <td>Billing adjusted total minutes of use over the...</td>\n",
       "      <td>Billing adjusted total minutes use life customer</td>\n",
       "      <td>0</td>\n",
       "      <td>bill adjust total minut us life custom</td>\n",
       "    </tr>\n",
       "    <tr>\n",
       "      <th>adjqty</th>\n",
       "      <td>Billing adjusted total number of calls over th...</td>\n",
       "      <td>Billing adjusted total number calls life customer</td>\n",
       "      <td>0</td>\n",
       "      <td>bill adjust total number call life custom</td>\n",
       "    </tr>\n",
       "    <tr>\n",
       "      <th>avgrev</th>\n",
       "      <td>Average monthly revenue over the life of the c...</td>\n",
       "      <td>Average monthly revenue life customer</td>\n",
       "      <td>0</td>\n",
       "      <td>averag monthli revenu life custom</td>\n",
       "    </tr>\n",
       "    <tr>\n",
       "      <th>avgmou</th>\n",
       "      <td>Average monthly minutes of use over the life o...</td>\n",
       "      <td>Average monthly minutes use life customer</td>\n",
       "      <td>0</td>\n",
       "      <td>averag monthli minut us life custom</td>\n",
       "    </tr>\n",
       "    <tr>\n",
       "      <th>avgqty</th>\n",
       "      <td>Average monthly number of calls over the life ...</td>\n",
       "      <td>Average monthly number calls life customer</td>\n",
       "      <td>0</td>\n",
       "      <td>averag monthli number call life custom</td>\n",
       "    </tr>\n",
       "  </tbody>\n",
       "</table>\n",
       "</div>"
      ],
      "text/plain": [
       "                                           col_descriptions  \\\n",
       "totcalls  Total number of calls over the life of the cus...   \n",
       "totmou    Total minutes of use over the life of the cust...   \n",
       "adjrev    Billing adjusted total revenue over the life o...   \n",
       "adjmou    Billing adjusted total minutes of use over the...   \n",
       "adjqty    Billing adjusted total number of calls over th...   \n",
       "avgrev    Average monthly revenue over the life of the c...   \n",
       "avgmou    Average monthly minutes of use over the life o...   \n",
       "avgqty    Average monthly number of calls over the life ...   \n",
       "\n",
       "                                                 clean_desc  optics_class  \\\n",
       "totcalls                   Total number calls life customer             0   \n",
       "totmou                      Total minutes use life customer             0   \n",
       "adjrev         Billing adjusted total revenue life customer             0   \n",
       "adjmou     Billing adjusted total minutes use life customer             0   \n",
       "adjqty    Billing adjusted total number calls life customer             0   \n",
       "avgrev                Average monthly revenue life customer             0   \n",
       "avgmou            Average monthly minutes use life customer             0   \n",
       "avgqty           Average monthly number calls life customer             0   \n",
       "\n",
       "                                    clean_desc_stem  \n",
       "totcalls              total number call life custom  \n",
       "totmou                   total minut us life custom  \n",
       "adjrev         bill adjust total revenu life custom  \n",
       "adjmou       bill adjust total minut us life custom  \n",
       "adjqty    bill adjust total number call life custom  \n",
       "avgrev            averag monthli revenu life custom  \n",
       "avgmou          averag monthli minut us life custom  \n",
       "avgqty       averag monthli number call life custom  "
      ]
     },
     "execution_count": 72,
     "metadata": {},
     "output_type": "execute_result"
    }
   ],
   "source": [
    "col_descriptions[col_descriptions.optics_class==0]"
   ]
  },
  {
   "cell_type": "markdown",
   "metadata": {},
   "source": [
    "### kmeans grouping"
   ]
  },
  {
   "cell_type": "code",
   "execution_count": 172,
   "metadata": {},
   "outputs": [],
   "source": [
    "kmeans = KMeans(n_clusters=10)\n",
    "col_descriptions['kmeans_class'] = kmeans.fit_predict(X.toarray())"
   ]
  },
  {
   "cell_type": "code",
   "execution_count": 173,
   "metadata": {},
   "outputs": [
    {
     "data": {
      "text/plain": [
       "4    48\n",
       "0    11\n",
       "1    10\n",
       "3     8\n",
       "9     6\n",
       "8     5\n",
       "5     5\n",
       "6     3\n",
       "7     2\n",
       "2     2\n",
       "Name: kmeans_class, dtype: int64"
      ]
     },
     "execution_count": 173,
     "metadata": {},
     "output_type": "execute_result"
    }
   ],
   "source": [
    "col_descriptions['kmeans_class'].value_counts()"
   ]
  },
  {
   "cell_type": "code",
   "execution_count": 174,
   "metadata": {},
   "outputs": [],
   "source": [
    "ls = []\n",
    "for group in col_descriptions['kmeans_class'].unique():\n",
    "    ls.append(col_descriptions[col_descriptions['kmeans_class']==group]['col_descriptions'].to_numpy())"
   ]
  },
  {
   "cell_type": "code",
   "execution_count": 211,
   "metadata": {},
   "outputs": [
    {
     "data": {
      "text/plain": [
       "array(['Mean number of monthly minutes of use',\n",
       "       'Mean overage minutes of use',\n",
       "       'Mean rounded minutes of use of customer care calls',\n",
       "       'Mean unrounded minutes of use of customer care (see CUSTCARE_MEAN) calls',\n",
       "       'Mean unrounded minutes of use of completed voice calls',\n",
       "       'Mean unrounded minutes of use of completed data calls',\n",
       "       'Mean unrounded minutes of use of received voice calls ',\n",
       "       'Mean unrounded minutes of use of peak voice calls',\n",
       "       'Mean unrounded minutes of use of peak data calls',\n",
       "       'Mean unrounded minutes of use of off-peak voice calls',\n",
       "       'Mean unrounded minutes of use of off-peak data calls'],\n",
       "      dtype=object)"
      ]
     },
     "execution_count": 211,
     "metadata": {},
     "output_type": "execute_result"
    }
   ],
   "source": [
    "col_descriptions[col_descriptions['kmeans_class']==0]['col_descriptions'].to_numpy()"
   ]
  }
 ],
 "metadata": {
  "kernelspec": {
   "display_name": "Python 3",
   "language": "python",
   "name": "python3"
  },
  "language_info": {
   "codemirror_mode": {
    "name": "ipython",
    "version": 3
   },
   "file_extension": ".py",
   "mimetype": "text/x-python",
   "name": "python",
   "nbconvert_exporter": "python",
   "pygments_lexer": "ipython3",
   "version": "3.8.5"
  }
 },
 "nbformat": 4,
 "nbformat_minor": 4
}
